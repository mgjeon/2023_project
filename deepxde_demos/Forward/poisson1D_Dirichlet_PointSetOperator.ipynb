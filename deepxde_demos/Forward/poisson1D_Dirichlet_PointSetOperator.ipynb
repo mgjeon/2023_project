{
 "cells": [
  {
   "cell_type": "markdown",
   "id": "724e63d9-98a0-4160-8fa5-b9e9830f3804",
   "metadata": {},
   "source": [
    "# Poisson equation in 1D with Dirichlet/PointSetOperator boundary conditions"
   ]
  },
  {
   "cell_type": "markdown",
   "id": "baf9b6dc-1558-4dad-af55-6328332d6322",
   "metadata": {},
   "source": [
    "## Problem setup"
   ]
  },
  {
   "cell_type": "markdown",
   "id": "6f13fc24-ae4f-41b3-92f8-dcf703c0abfb",
   "metadata": {},
   "source": [
    "We will solve a Poisson equation:\n",
    "$$\n",
    "\\nabla^2 u = 2, \\qquad x \\in [-1, 1]\n",
    "$$\n",
    "with the Neumann boundary condtions on the right boundary\n",
    "$$\n",
    "\\left. \\dfrac{du}{dx} \\right|_{x=1} = 4\n",
    "$$\n",
    "and Dirichlet boundary conditions on the left boundary\n",
    "$$\n",
    "u(-1) = 0.\n",
    "$$\n",
    "\n",
    "The exact solution is $u(x) = (x+1)^2$"
   ]
  },
  {
   "cell_type": "markdown",
   "id": "3bd466a0-46af-4733-9687-8fb6afff4a05",
   "metadata": {},
   "source": [
    "## Implementation"
   ]
  },
  {
   "cell_type": "code",
   "execution_count": 1,
   "id": "e5655f69-c151-4b6a-9274-d5de581b64d1",
   "metadata": {},
   "outputs": [],
   "source": [
    "import os\n",
    "os.environ['CUDA_VISIBLE_DEVICES'] = '3'\n",
    "os.environ['DDE_BACKEND'] = 'tensorflow'"
   ]
  },
  {
   "cell_type": "code",
   "execution_count": 2,
   "id": "198a6c3c-d66f-4d74-aeb8-872d7f54aead",
   "metadata": {},
   "outputs": [
    {
     "name": "stderr",
     "output_type": "stream",
     "text": [
      "2023-10-09 09:17:22.645579: E tensorflow/compiler/xla/stream_executor/cuda/cuda_dnn.cc:9342] Unable to register cuDNN factory: Attempting to register factory for plugin cuDNN when one has already been registered\n",
      "2023-10-09 09:17:22.645630: E tensorflow/compiler/xla/stream_executor/cuda/cuda_fft.cc:609] Unable to register cuFFT factory: Attempting to register factory for plugin cuFFT when one has already been registered\n",
      "2023-10-09 09:17:22.645660: E tensorflow/compiler/xla/stream_executor/cuda/cuda_blas.cc:1518] Unable to register cuBLAS factory: Attempting to register factory for plugin cuBLAS when one has already been registered\n",
      "2023-10-09 09:17:22.654210: I tensorflow/core/platform/cpu_feature_guard.cc:182] This TensorFlow binary is optimized to use available CPU instructions in performance-critical operations.\n",
      "To enable the following instructions: AVX2 FMA, in other operations, rebuild TensorFlow with the appropriate compiler flags.\n",
      "Using backend: tensorflow\n",
      "Other supported backends: tensorflow.compat.v1, pytorch, jax, paddle.\n",
      "paddle supports more examples now and is recommended.\n"
     ]
    },
    {
     "name": "stdout",
     "output_type": "stream",
     "text": [
      "Enable just-in-time compilation with XLA.\n",
      "\n"
     ]
    }
   ],
   "source": [
    "import deepxde as dde\n",
    "from deepxde.backend import tf\n",
    "import numpy as np\n",
    "import matplotlib.pyplot as plt"
   ]
  },
  {
   "cell_type": "code",
   "execution_count": 3,
   "id": "787cc393-f85b-406b-9868-a6926a85d16d",
   "metadata": {},
   "outputs": [],
   "source": [
    "geom = dde.geometry.Interval(-1, 1)"
   ]
  },
  {
   "cell_type": "code",
   "execution_count": 4,
   "id": "28cde005-08f5-400b-9125-ef093038ed4c",
   "metadata": {},
   "outputs": [],
   "source": [
    "def pde(x, y):\n",
    "    dy_xx = dde.grad.hessian(y, x)\n",
    "    return dy_xx - 2"
   ]
  },
  {
   "cell_type": "code",
   "execution_count": 5,
   "id": "9b43440b-b116-472c-ab9d-9a0c8973e995",
   "metadata": {},
   "outputs": [],
   "source": [
    "def boundary_l(x, on_boundary):\n",
    "    return on_boundary and dde.utils.isclose(x[0], -1)"
   ]
  },
  {
   "cell_type": "code",
   "execution_count": 6,
   "id": "5ccd1c3b-2943-4618-809e-a262d6b06862",
   "metadata": {},
   "outputs": [],
   "source": [
    "bc_l = dde.icbc.DirichletBC(geom, lambda x: 0, boundary_l)"
   ]
  },
  {
   "cell_type": "code",
   "execution_count": 7,
   "id": "1c6747a2-f3b7-49ad-a17e-f8e7b0a8f64d",
   "metadata": {},
   "outputs": [],
   "source": [
    "def true_solution(x):\n",
    "    return (x+1)**2"
   ]
  },
  {
   "cell_type": "code",
   "execution_count": 8,
   "id": "64a8c8e3-8884-49b5-ad58-c03d563d2e0d",
   "metadata": {},
   "outputs": [],
   "source": [
    "def d_func(x):\n",
    "    return 2*(x+1)\n",
    "\n",
    "def dy_x(x, y, X):\n",
    "    dy_x = dde.grad.jacobian(y, x)\n",
    "    return dy_x"
   ]
  },
  {
   "cell_type": "code",
   "execution_count": 9,
   "id": "625f625b-d0b8-4a8f-af67-fcc8fed12a97",
   "metadata": {},
   "outputs": [
    {
     "data": {
      "text/plain": [
       "array([[-1.],\n",
       "       [ 1.]], dtype=float32)"
      ]
     },
     "execution_count": 9,
     "metadata": {},
     "output_type": "execute_result"
    }
   ],
   "source": [
    "boundary_pts = geom.random_boundary_points(2)\n",
    "boundary_pts"
   ]
  },
  {
   "cell_type": "code",
   "execution_count": 10,
   "id": "1f86d4a7-9fb0-4aec-963e-f82520f5df08",
   "metadata": {},
   "outputs": [
    {
     "data": {
      "text/plain": [
       "array([[1.]], dtype=float32)"
      ]
     },
     "execution_count": 10,
     "metadata": {},
     "output_type": "execute_result"
    }
   ],
   "source": [
    "r_boundary_pts = boundary_pts[dde.utils.isclose(boundary_pts, 1)].reshape(-1, 1)\n",
    "r_boundary_pts"
   ]
  },
  {
   "cell_type": "code",
   "execution_count": 11,
   "id": "a4e7f1fa-e577-46c7-a232-be91ce24187e",
   "metadata": {},
   "outputs": [
    {
     "data": {
      "text/plain": [
       "array([[4.]], dtype=float32)"
      ]
     },
     "execution_count": 11,
     "metadata": {},
     "output_type": "execute_result"
    }
   ],
   "source": [
    "d_func(r_boundary_pts)"
   ]
  },
  {
   "cell_type": "code",
   "execution_count": 12,
   "id": "d0c1ad42-44e9-46db-b349-a5286f41d74e",
   "metadata": {},
   "outputs": [
    {
     "data": {
      "text/plain": [
       "((1, 1), (1, 1))"
      ]
     },
     "execution_count": 12,
     "metadata": {},
     "output_type": "execute_result"
    }
   ],
   "source": [
    "r_boundary_pts.shape, d_func(r_boundary_pts).shape"
   ]
  },
  {
   "cell_type": "code",
   "execution_count": 13,
   "id": "e474fb48-c2cb-4788-a754-64919bb4b32c",
   "metadata": {},
   "outputs": [
    {
     "data": {
      "text/plain": [
       "\u001b[0;31mInit signature:\u001b[0m \u001b[0mdde\u001b[0m\u001b[0;34m.\u001b[0m\u001b[0micbc\u001b[0m\u001b[0;34m.\u001b[0m\u001b[0mPointSetOperatorBC\u001b[0m\u001b[0;34m(\u001b[0m\u001b[0mpoints\u001b[0m\u001b[0;34m,\u001b[0m \u001b[0mvalues\u001b[0m\u001b[0;34m,\u001b[0m \u001b[0mfunc\u001b[0m\u001b[0;34m)\u001b[0m\u001b[0;34m\u001b[0m\u001b[0;34m\u001b[0m\u001b[0m\n",
       "\u001b[0;31mDocstring:\u001b[0m     \n",
       "General operator boundary conditions for a set of points.\n",
       "\n",
       "Compare the function output, func, (that associates with `points`)\n",
       "    with `values` (target data).\n",
       "\n",
       "Args:\n",
       "    points: An array of points where the corresponding target values are\n",
       "        known and used for training.\n",
       "    values: An array of values which output of function should fulfill.\n",
       "    func: A function takes arguments (`inputs`, `outputs`, `X`)\n",
       "        and outputs a tensor of size `N x 1`, where `N` is the length of\n",
       "        `inputs`. `inputs` and `outputs` are the network input and output\n",
       "        tensors, respectively; `X` are the NumPy array of the `inputs`.\n",
       "\u001b[0;31mFile:\u001b[0m           ~/miniforge3/envs/pinn_tf/lib/python3.10/site-packages/deepxde/icbc/boundary_conditions.py\n",
       "\u001b[0;31mType:\u001b[0m           type\n",
       "\u001b[0;31mSubclasses:\u001b[0m     "
      ]
     },
     "metadata": {},
     "output_type": "display_data"
    }
   ],
   "source": [
    "dde.icbc.PointSetOperatorBC?"
   ]
  },
  {
   "cell_type": "markdown",
   "id": "19ae893a-e59e-45a6-bd9c-fef6cf628f75",
   "metadata": {},
   "source": [
    "func(`points`, `outputs`, X) == `values`"
   ]
  },
  {
   "cell_type": "code",
   "execution_count": 14,
   "id": "aad16f34-ef53-40a1-aa48-df4fc9aa2af3",
   "metadata": {},
   "outputs": [
    {
     "name": "stderr",
     "output_type": "stream",
     "text": [
      "2023-10-09 09:17:26.981935: W tensorflow/core/common_runtime/gpu/gpu_bfc_allocator.cc:47] Overriding orig_value setting because the TF_FORCE_GPU_ALLOW_GROWTH environment variable is set. Original config value was 0.\n",
      "2023-10-09 09:17:26.982816: I tensorflow/core/common_runtime/gpu/gpu_device.cc:1886] Created device /job:localhost/replica:0/task:0/device:GPU:0 with 10520 MB memory:  -> device: 0, name: NVIDIA TITAN V, pci bus id: 0000:82:00.0, compute capability: 7.0\n"
     ]
    }
   ],
   "source": [
    "bc_r = dde.icbc.PointSetOperatorBC(r_boundary_pts, d_func(r_boundary_pts), dy_x)"
   ]
  },
  {
   "cell_type": "code",
   "execution_count": 15,
   "id": "1134a7dc-9bed-40f0-957d-3b37e3541651",
   "metadata": {},
   "outputs": [],
   "source": [
    "data = dde.data.PDE(geom,\n",
    "                    pde,\n",
    "                    [bc_r, bc_l],\n",
    "                    num_domain=16,\n",
    "                    num_boundary=2,\n",
    "                    solution=true_solution,\n",
    "                    num_test=100)"
   ]
  },
  {
   "cell_type": "code",
   "execution_count": 16,
   "id": "81fb0fa1-f6d6-4486-aabe-a4c43c5b6b7b",
   "metadata": {},
   "outputs": [],
   "source": [
    "layer_size = [1] + [50] * 3 + [1]\n",
    "activation = \"tanh\"\n",
    "initializer = \"Glorot uniform\"\n",
    "\n",
    "net = dde.nn.FNN(layer_size, activation, initializer)"
   ]
  },
  {
   "cell_type": "code",
   "execution_count": 17,
   "id": "3ba0d455-17e7-4b04-83bf-9cd5140f1d67",
   "metadata": {},
   "outputs": [],
   "source": [
    "model = dde.Model(data, net)"
   ]
  },
  {
   "cell_type": "code",
   "execution_count": 18,
   "id": "8a28480f-9182-49d3-856b-d57cd23de22e",
   "metadata": {},
   "outputs": [],
   "source": [
    "def dy_x(x, y):\n",
    "    dy_x = dde.grad.jacobian(y, x)\n",
    "    return dy_x\n",
    "\n",
    "def dy_xx(x, y):\n",
    "    dy_xx = dde.grad.hessian(y, x)\n",
    "    return dy_xx"
   ]
  },
  {
   "cell_type": "code",
   "execution_count": 19,
   "id": "072a1341-a41d-413b-bf2c-c1e18184f777",
   "metadata": {},
   "outputs": [
    {
     "data": {
      "text/plain": [
       "\u001b[0;31mInit signature:\u001b[0m\n",
       "\u001b[0mdde\u001b[0m\u001b[0;34m.\u001b[0m\u001b[0mcallbacks\u001b[0m\u001b[0;34m.\u001b[0m\u001b[0mOperatorPredictor\u001b[0m\u001b[0;34m(\u001b[0m\u001b[0;34m\u001b[0m\n",
       "\u001b[0;34m\u001b[0m    \u001b[0mx\u001b[0m\u001b[0;34m,\u001b[0m\u001b[0;34m\u001b[0m\n",
       "\u001b[0;34m\u001b[0m    \u001b[0mop\u001b[0m\u001b[0;34m,\u001b[0m\u001b[0;34m\u001b[0m\n",
       "\u001b[0;34m\u001b[0m    \u001b[0mperiod\u001b[0m\u001b[0;34m=\u001b[0m\u001b[0;36m1\u001b[0m\u001b[0;34m,\u001b[0m\u001b[0;34m\u001b[0m\n",
       "\u001b[0;34m\u001b[0m    \u001b[0mfilename\u001b[0m\u001b[0;34m=\u001b[0m\u001b[0;32mNone\u001b[0m\u001b[0;34m,\u001b[0m\u001b[0;34m\u001b[0m\n",
       "\u001b[0;34m\u001b[0m    \u001b[0mprecision\u001b[0m\u001b[0;34m=\u001b[0m\u001b[0;36m2\u001b[0m\u001b[0;34m,\u001b[0m\u001b[0;34m\u001b[0m\n",
       "\u001b[0;34m\u001b[0m\u001b[0;34m)\u001b[0m\u001b[0;34m\u001b[0m\u001b[0;34m\u001b[0m\u001b[0m\n",
       "\u001b[0;31mDocstring:\u001b[0m     \n",
       "Generates operator values for the input samples.\n",
       "\n",
       "Args:\n",
       "    x: The input data.\n",
       "    op: The operator with inputs (x, y).\n",
       "    period (int): Interval (number of epochs) between checking values.\n",
       "    filename (string): Output the values to the file `filename`.\n",
       "        The file is kept open to allow instances to be re-used.\n",
       "        If ``None``, output to the screen.\n",
       "    precision (int): The precision of variables to display.\n",
       "\u001b[0;31mFile:\u001b[0m           ~/miniforge3/envs/pinn_tf/lib/python3.10/site-packages/deepxde/callbacks.py\n",
       "\u001b[0;31mType:\u001b[0m           type\n",
       "\u001b[0;31mSubclasses:\u001b[0m     FirstDerivative"
      ]
     },
     "metadata": {},
     "output_type": "display_data"
    }
   ],
   "source": [
    "dde.callbacks.OperatorPredictor?"
   ]
  },
  {
   "cell_type": "code",
   "execution_count": 20,
   "id": "43f96c87-b93a-4a1e-9f44-065b9ea407d3",
   "metadata": {},
   "outputs": [],
   "source": [
    "first_derivative = dde.callbacks.OperatorPredictor(\n",
    "    geom.random_boundary_points(2), op=dy_x, period=200, filename='first_derivative.txt'\n",
    ")\n",
    "\n",
    "second_derivative = dde.callbacks.OperatorPredictor(\n",
    "    geom.random_boundary_points(2), op=dy_xx, period=200, filename='second_derivative.txt'\n",
    ")"
   ]
  },
  {
   "cell_type": "code",
   "execution_count": 21,
   "id": "83be1bea-0176-49a1-ab10-a8ea0a5a5f21",
   "metadata": {},
   "outputs": [
    {
     "name": "stdout",
     "output_type": "stream",
     "text": [
      "Compiling model...\n",
      "'compile' took 0.003909 s\n",
      "\n"
     ]
    }
   ],
   "source": [
    "model.compile(\"adam\", lr=1e-3, metrics=[\"l2 relative error\"])"
   ]
  },
  {
   "cell_type": "code",
   "execution_count": 22,
   "id": "b2088328-9d80-469b-a9f0-1819a059d249",
   "metadata": {},
   "outputs": [
    {
     "name": "stdout",
     "output_type": "stream",
     "text": [
      "Training model...\n",
      "\n"
     ]
    },
    {
     "name": "stderr",
     "output_type": "stream",
     "text": [
      "/userhome/jeon_mg/miniforge3/envs/pinn_tf/lib/python3.10/site-packages/keras/src/initializers/initializers.py:120: UserWarning: The initializer GlorotUniform is unseeded and being called multiple times, which will return identical values each time (even if the initializer is unseeded). Please update your code to provide a seed to the initializer, or avoid using the same initializer instance more than once.\n",
      "  warnings.warn(\n"
     ]
    },
    {
     "name": "stdout",
     "output_type": "stream",
     "text": [
      "WARNING:tensorflow:AutoGraph could not transform <function <lambda> at 0x7fefe27ebd90> and will run it as-is.\n",
      "Cause: could not parse the source code of <function <lambda> at 0x7fefe27ebd90>: no matching AST found among candidates:\n",
      "# coding=utf-8\n",
      "lambda x, on: np.array([on_boundary(x[i], on[i]) for i in range(len(x))])\n",
      "To silence this warning, decorate the function with @tf.autograph.experimental.do_not_convert\n",
      "WARNING: AutoGraph could not transform <function <lambda> at 0x7fefe27ebd90> and will run it as-is.\n",
      "Cause: could not parse the source code of <function <lambda> at 0x7fefe27ebd90>: no matching AST found among candidates:\n",
      "# coding=utf-8\n",
      "lambda x, on: np.array([on_boundary(x[i], on[i]) for i in range(len(x))])\n",
      "To silence this warning, decorate the function with @tf.autograph.experimental.do_not_convert\n"
     ]
    },
    {
     "name": "stderr",
     "output_type": "stream",
     "text": [
      "2023-10-09 09:17:28.671259: I tensorflow/compiler/xla/service/service.cc:168] XLA service 0x55fb6489ace0 initialized for platform CUDA (this does not guarantee that XLA will be used). Devices:\n",
      "2023-10-09 09:17:28.671309: I tensorflow/compiler/xla/service/service.cc:176]   StreamExecutor device (0): NVIDIA TITAN V, Compute Capability 7.0\n",
      "2023-10-09 09:17:28.682402: I tensorflow/compiler/mlir/tensorflow/utils/dump_mlir_util.cc:269] disabling MLIR crash reproducer, set env var `MLIR_CRASH_REPRODUCER_DIRECTORY` to enable.\n",
      "2023-10-09 09:17:29.331073: I tensorflow/compiler/xla/stream_executor/cuda/cuda_dnn.cc:442] Loaded cuDNN version 8700\n",
      "2023-10-09 09:17:29.337509: I tensorflow/tsl/platform/default/subprocess.cc:304] Start cannot spawn child process: No such file or directory\n",
      "2023-10-09 09:17:29.803461: I ./tensorflow/compiler/jit/device_compiler.h:186] Compiled cluster using XLA!  This line is logged at most once for the lifetime of the process.\n"
     ]
    },
    {
     "name": "stdout",
     "output_type": "stream",
     "text": [
      "Step      Train loss                        Test loss                         Test metric   \n",
      "0         [3.98e+00, 1.23e+01, 3.47e-01]    [4.03e+00, 1.23e+01, 3.47e-01]    [8.85e-01]    \n",
      "1000      [1.10e-03, 2.07e-07, 3.15e-08]    [8.78e-04, 2.07e-07, 3.15e-08]    [1.62e-03]    \n",
      "2000      [2.59e-04, 7.37e-09, 9.22e-09]    [2.24e-04, 7.29e-09, 9.22e-09]    [1.16e-03]    \n",
      "3000      [1.06e-04, 1.28e-11, 8.64e-10]    [9.35e-05, 1.64e-11, 8.64e-10]    [7.70e-04]    \n",
      "4000      [5.02e-05, 7.59e-07, 1.91e-06]    [4.33e-05, 7.59e-07, 1.91e-06]    [4.79e-04]    \n",
      "5000      [2.54e-05, 2.85e-05, 5.59e-05]    [2.00e-05, 2.85e-05, 5.59e-05]    [2.31e-03]    \n",
      "6000      [1.07e-05, 1.42e-10, 1.39e-10]    [8.83e-06, 1.42e-10, 1.39e-10]    [2.45e-04]    \n",
      "7000      [5.63e-06, 3.40e-06, 4.37e-06]    [4.18e-06, 3.40e-06, 4.37e-06]    [6.71e-04]    \n",
      "8000      [3.28e-06, 3.09e-09, 4.80e-09]    [2.56e-06, 3.06e-09, 4.80e-09]    [7.50e-05]    \n",
      "9000      [2.78e-06, 5.82e-11, 6.27e-12]    [2.28e-06, 5.82e-11, 6.27e-12]    [6.14e-05]    \n",
      "10000     [2.90e-06, 2.19e-06, 3.31e-06]    [2.44e-06, 2.19e-06, 3.31e-06]    [6.40e-04]    \n",
      "\n",
      "Best model at step 9000:\n",
      "  train loss: 2.78e-06\n",
      "  test loss: 2.28e-06\n",
      "  test metric: [6.14e-05]\n",
      "\n",
      "'train' took 18.991525 s\n",
      "\n"
     ]
    }
   ],
   "source": [
    "loss_histroy, train_state = model.train(\n",
    "    iterations=10000, callbacks=[first_derivative, second_derivative]\n",
    ")"
   ]
  },
  {
   "cell_type": "code",
   "execution_count": 23,
   "id": "dd787778-7a18-49f6-9277-d541396c8a5f",
   "metadata": {},
   "outputs": [
    {
     "data": {
      "image/png": "[encoded data removed]",
      "text/plain": [
       "<Figure size 640x480 with 1 Axes>"
      ]
     },
     "metadata": {},
     "output_type": "display_data"
    },
    {
     "data": {
      "image/png": "[encoded data removed]",
      "text/plain": [
       "<Figure size 640x480 with 1 Axes>"
      ]
     },
     "metadata": {},
     "output_type": "display_data"
    }
   ],
   "source": [
    "dde.saveplot(loss_histroy, train_state, issave=False, isplot=True)"
   ]
  },
  {
   "cell_type": "code",
   "execution_count": 24,
   "id": "f990a4bb-79d7-43ff-8358-f64e7003578f",
   "metadata": {},
   "outputs": [],
   "source": [
    "import pandas as pd"
   ]
  },
  {
   "cell_type": "code",
   "execution_count": 32,
   "id": "710b26d2-3b8c-4fa2-9926-e74f91c3ab10",
   "metadata": {},
   "outputs": [
    {
     "data": {
      "text/html": [
       "<div>\n",
       "<style scoped>\n",
       "    .dataframe tbody tr th:only-of-type {\n",
       "        vertical-align: middle;\n",
       "    }\n",
       "\n",
       "    .dataframe tbody tr th {\n",
       "        vertical-align: top;\n",
       "    }\n",
       "\n",
       "    .dataframe thead th {\n",
       "        text-align: right;\n",
       "    }\n",
       "</style>\n",
       "<table border=\"1\" class=\"dataframe\">\n",
       "  <thead>\n",
       "    <tr style=\"text-align: right;\">\n",
       "      <th></th>\n",
       "      <th>0</th>\n",
       "    </tr>\n",
       "  </thead>\n",
       "  <tbody>\n",
       "    <tr>\n",
       "      <th>0</th>\n",
       "      <td>0 [4.92e-01, 4.92e-01]</td>\n",
       "    </tr>\n",
       "    <tr>\n",
       "      <th>5</th>\n",
       "      <td>1000 [-7.00e-03, 4.00e+00]</td>\n",
       "    </tr>\n",
       "    <tr>\n",
       "      <th>10</th>\n",
       "      <td>2000 [-4.50e-03, 4.00e+00]</td>\n",
       "    </tr>\n",
       "    <tr>\n",
       "      <th>15</th>\n",
       "      <td>3000 [-3.04e-03, 4.00e+00]</td>\n",
       "    </tr>\n",
       "    <tr>\n",
       "      <th>20</th>\n",
       "      <td>4000 [-2.63e-03, 4.00e+00]</td>\n",
       "    </tr>\n",
       "    <tr>\n",
       "      <th>25</th>\n",
       "      <td>5000 [-4.43e-03, 3.99e+00]</td>\n",
       "    </tr>\n",
       "    <tr>\n",
       "      <th>30</th>\n",
       "      <td>6000 [-9.89e-04, 4.00e+00]</td>\n",
       "    </tr>\n",
       "    <tr>\n",
       "      <th>35</th>\n",
       "      <td>7000 [-1.29e-03, 4.00e+00]</td>\n",
       "    </tr>\n",
       "    <tr>\n",
       "      <th>40</th>\n",
       "      <td>8000 [-4.60e-04, 4.00e+00]</td>\n",
       "    </tr>\n",
       "    <tr>\n",
       "      <th>45</th>\n",
       "      <td>9000 [-3.31e-04, 4.00e+00]</td>\n",
       "    </tr>\n",
       "    <tr>\n",
       "      <th>50</th>\n",
       "      <td>10000 [-8.10e-04, 4.00e+00]</td>\n",
       "    </tr>\n",
       "  </tbody>\n",
       "</table>\n",
       "</div>"
      ],
      "text/plain": [
       "                              0\n",
       "0        0 [4.92e-01, 4.92e-01]\n",
       "5    1000 [-7.00e-03, 4.00e+00]\n",
       "10   2000 [-4.50e-03, 4.00e+00]\n",
       "15   3000 [-3.04e-03, 4.00e+00]\n",
       "20   4000 [-2.63e-03, 4.00e+00]\n",
       "25   5000 [-4.43e-03, 3.99e+00]\n",
       "30   6000 [-9.89e-04, 4.00e+00]\n",
       "35   7000 [-1.29e-03, 4.00e+00]\n",
       "40   8000 [-4.60e-04, 4.00e+00]\n",
       "45   9000 [-3.31e-04, 4.00e+00]\n",
       "50  10000 [-8.10e-04, 4.00e+00]"
      ]
     },
     "execution_count": 32,
     "metadata": {},
     "output_type": "execute_result"
    }
   ],
   "source": [
    "df = pd.read_csv('first_derivative.txt', delimiter='\\t', header=None)\n",
    "df.iloc[::5]"
   ]
  },
  {
   "cell_type": "code",
   "execution_count": 30,
   "id": "fc701edd-3ccc-4e85-921f-a34658a22f0f",
   "metadata": {},
   "outputs": [
    {
     "data": {
      "text/html": [
       "<div>\n",
       "<style scoped>\n",
       "    .dataframe tbody tr th:only-of-type {\n",
       "        vertical-align: middle;\n",
       "    }\n",
       "\n",
       "    .dataframe tbody tr th {\n",
       "        vertical-align: top;\n",
       "    }\n",
       "\n",
       "    .dataframe thead th {\n",
       "        text-align: right;\n",
       "    }\n",
       "</style>\n",
       "<table border=\"1\" class=\"dataframe\">\n",
       "  <thead>\n",
       "    <tr style=\"text-align: right;\">\n",
       "      <th></th>\n",
       "      <th>0</th>\n",
       "    </tr>\n",
       "  </thead>\n",
       "  <tbody>\n",
       "    <tr>\n",
       "      <th>0</th>\n",
       "      <td>0 [2.48e-01, -2.48e-01]</td>\n",
       "    </tr>\n",
       "    <tr>\n",
       "      <th>5</th>\n",
       "      <td>1000 [1.92e+00, 1.99e+00]</td>\n",
       "    </tr>\n",
       "    <tr>\n",
       "      <th>10</th>\n",
       "      <td>2000 [1.97e+00, 1.99e+00]</td>\n",
       "    </tr>\n",
       "    <tr>\n",
       "      <th>15</th>\n",
       "      <td>3000 [1.98e+00, 1.99e+00]</td>\n",
       "    </tr>\n",
       "    <tr>\n",
       "      <th>20</th>\n",
       "      <td>4000 [1.98e+00, 2.00e+00]</td>\n",
       "    </tr>\n",
       "    <tr>\n",
       "      <th>25</th>\n",
       "      <td>5000 [1.99e+00, 2.00e+00]</td>\n",
       "    </tr>\n",
       "    <tr>\n",
       "      <th>30</th>\n",
       "      <td>6000 [1.99e+00, 2.00e+00]</td>\n",
       "    </tr>\n",
       "    <tr>\n",
       "      <th>35</th>\n",
       "      <td>7000 [1.99e+00, 2.00e+00]</td>\n",
       "    </tr>\n",
       "    <tr>\n",
       "      <th>40</th>\n",
       "      <td>8000 [2.00e+00, 2.00e+00]</td>\n",
       "    </tr>\n",
       "    <tr>\n",
       "      <th>45</th>\n",
       "      <td>9000 [2.00e+00, 2.00e+00]</td>\n",
       "    </tr>\n",
       "    <tr>\n",
       "      <th>50</th>\n",
       "      <td>10000 [2.00e+00, 2.00e+00]</td>\n",
       "    </tr>\n",
       "  </tbody>\n",
       "</table>\n",
       "</div>"
      ],
      "text/plain": [
       "                             0\n",
       "0      0 [2.48e-01, -2.48e-01]\n",
       "5    1000 [1.92e+00, 1.99e+00]\n",
       "10   2000 [1.97e+00, 1.99e+00]\n",
       "15   3000 [1.98e+00, 1.99e+00]\n",
       "20   4000 [1.98e+00, 2.00e+00]\n",
       "25   5000 [1.99e+00, 2.00e+00]\n",
       "30   6000 [1.99e+00, 2.00e+00]\n",
       "35   7000 [1.99e+00, 2.00e+00]\n",
       "40   8000 [2.00e+00, 2.00e+00]\n",
       "45   9000 [2.00e+00, 2.00e+00]\n",
       "50  10000 [2.00e+00, 2.00e+00]"
      ]
     },
     "execution_count": 30,
     "metadata": {},
     "output_type": "execute_result"
    }
   ],
   "source": [
    "df = pd.read_csv('second_derivative.txt', delimiter='\\t', header=None)\n",
    "df.iloc[::5]"
   ]
  },
  {
   "cell_type": "code",
   "execution_count": 33,
   "id": "65b7a1e9-a6b8-43a6-9431-688b13c98aaf",
   "metadata": {},
   "outputs": [],
   "source": [
    "import os\n",
    "os.remove('first_derivative.txt')\n",
    "os.remove('second_derivative.txt')"
   ]
  },
  {
   "cell_type": "code",
   "execution_count": null,
   "id": "bdbde89d-c9d1-4559-8869-2ec8bebc1f75",
   "metadata": {},
   "outputs": [],
   "source": []
  }
 ],
 "metadata": {
  "kernelspec": {
   "display_name": "Python 3 (ipykernel)",
   "language": "python",
   "name": "python3"
  },
  "language_info": {
   "codemirror_mode": {
    "name": "ipython",
    "version": 3
   },
   "file_extension": ".py",
   "mimetype": "text/x-python",
   "name": "python",
   "nbconvert_exporter": "python",
   "pygments_lexer": "ipython3",
   "version": "3.10.12"
  }
 },
 "nbformat": 4,
 "nbformat_minor": 5
}
