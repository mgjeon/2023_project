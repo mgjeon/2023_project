{
 "cells": [
  {
   "cell_type": "code",
   "execution_count": null,
   "metadata": {},
   "outputs": [],
   "source": [
    "import os\n",
    "os.environ['CUDA_VISIBLE_DEVICES'] = '3'"
   ]
  },
  {
   "cell_type": "code",
   "execution_count": null,
   "metadata": {},
   "outputs": [],
   "source": [
    "from nf2.evaluation.unpack import load_cube"
   ]
  },
  {
   "cell_type": "code",
   "execution_count": null,
   "metadata": {},
   "outputs": [],
   "source": [
    "nf2_scratch_100000 = '/userhome/jeon_mg/workspace/_data/isee/noaa_12673/20170906_083600/extrapolation_result.nf2'"
   ]
  },
  {
   "cell_type": "code",
   "execution_count": null,
   "metadata": {},
   "outputs": [
    {
     "name": "stderr",
     "output_type": "stream",
     "text": [
      "100%|██████████| 33884/33884 [00:37<00:00, 904.48it/s]\n"
     ]
    }
   ],
   "source": [
    "b_nf2_scratch_100000 = load_cube(nf2_scratch_100000, progress=True)"
   ]
  },
  {
   "cell_type": "code",
   "execution_count": null,
   "metadata": {},
   "outputs": [],
   "source": [
    "import numpy as np"
   ]
  },
  {
   "cell_type": "code",
   "execution_count": null,
   "metadata": {},
   "outputs": [],
   "source": [
    "def evaluate(b, B):\n",
    "    # b : reference magnetic field\n",
    "    # B : numerical solution\n",
    "    eps = 1e-7\n",
    "\n",
    "    result = {}\n",
    "\n",
    "    result['c_vec'] = (B*b).sum(-1).sum() / np.sqrt((B**2).sum(-1).sum() * (b**2).sum(-1).sum())\n",
    "    \n",
    "    M = np.prod(b.shape[:-1])\n",
    "    result['c_cs'] = (1/M) * ((B*b).sum(-1) / (np.sqrt((B**2).sum(-1)) * np.sqrt((b**2).sum(-1)) + eps)).sum()\n",
    "\n",
    "    result[\"E_n'\"] = 1 - np.sqrt(((B-b)**2).sum(-1)).sum() / np.sqrt((b**2).sum(-1)).sum() \n",
    "\n",
    "    result[\"E_m'\"] = 1 - (1/M) * (np.sqrt(((B-b)**2).sum(-1)) / (np.sqrt((b**2).sum(-1)) + eps)).sum()\n",
    "\n",
    "    result['eps'] = (B**2).sum(-1).sum() / (b**2).sum(-1).sum()\n",
    "\n",
    "    return result"
   ]
  },
  {
   "cell_type": "code",
   "execution_count": null,
   "metadata": {},
   "outputs": [],
   "source": [
    "from nnf2.evaluation.unpack import load_cube"
   ]
  },
  {
   "cell_type": "code",
   "execution_count": null,
   "metadata": {},
   "outputs": [],
   "source": [
    "scratch_100000 = '/userhome/jeon_mg/workspace/__data/isee/noaa_12673/20170906_083600_scratch_100000/extrapolation_result.nf2'"
   ]
  },
  {
   "cell_type": "code",
   "execution_count": null,
   "metadata": {},
   "outputs": [],
   "source": [
    "b_scratch_100000 = load_cube(scratch_100000, progress=True)"
   ]
  },
  {
   "cell_type": "code",
   "execution_count": null,
   "metadata": {},
   "outputs": [],
   "source": [
    "evaluate(b_nf2_scratch_100000, b_scratch_100000)"
   ]
  },
  {
   "cell_type": "code",
   "execution_count": null,
   "metadata": {},
   "outputs": [],
   "source": [
    "scratch = '/userhome/jeon_mg/workspace/__data/isee/noaa_12673/20170906_083600_scratch/extrapolation_result.nf2'"
   ]
  },
  {
   "cell_type": "code",
   "execution_count": null,
   "metadata": {},
   "outputs": [
    {
     "name": "stderr",
     "output_type": "stream",
     "text": [
      "100%|██████████| 33090/33090 [00:35<00:00, 935.35it/s]\n"
     ]
    }
   ],
   "source": [
    "b_scratch = load_cube(scratch, progress=True)"
   ]
  },
  {
   "cell_type": "code",
   "execution_count": null,
   "metadata": {},
   "outputs": [
    {
     "data": {
      "text/plain": [
       "{'c_vec': 0.8085262,\n",
       " 'c_cs': 0.5599159841664011,\n",
       " \"E_n'\": -0.23976242542266846,\n",
       " \"E_m'\": -3.8695307049049212,\n",
       " 'eps': 1.1618387}"
      ]
     },
     "execution_count": null,
     "metadata": {},
     "output_type": "execute_result"
    }
   ],
   "source": [
    "evaluate(b_scratch_100000, b_scratch)"
   ]
  },
  {
   "cell_type": "code",
   "execution_count": null,
   "metadata": {},
   "outputs": [],
   "source": [
    "initialize = '/userhome/jeon_mg/workspace/__data/isee/noaa_12673/20170906_083600_initialize/extrapolation_result.nf2'"
   ]
  },
  {
   "cell_type": "code",
   "execution_count": null,
   "metadata": {},
   "outputs": [
    {
     "name": "stderr",
     "output_type": "stream",
     "text": [
      "100%|██████████| 33090/33090 [00:35<00:00, 930.52it/s]\n"
     ]
    }
   ],
   "source": [
    "b_initialize = load_cube(initialize, progress=True)"
   ]
  },
  {
   "cell_type": "code",
   "execution_count": null,
   "metadata": {},
   "outputs": [
    {
     "data": {
      "text/plain": [
       "{'c_vec': 0.79338336,\n",
       " 'c_cs': 0.3845782342998525,\n",
       " \"E_n'\": 0.2553456425666809,\n",
       " \"E_m'\": -0.2137003725481499,\n",
       " 'eps': 0.65983635}"
      ]
     },
     "execution_count": null,
     "metadata": {},
     "output_type": "execute_result"
    }
   ],
   "source": [
    "evaluate(b_scratch_100000, b_initialize)"
   ]
  },
  {
   "cell_type": "code",
   "execution_count": null,
   "metadata": {},
   "outputs": [],
   "source": [
    "extrapolate = '/userhome/jeon_mg/workspace/__data/isee/noaa_12673/20170906_083600_extrapolate/extrapolation_result.nf2'"
   ]
  },
  {
   "cell_type": "code",
   "execution_count": null,
   "metadata": {},
   "outputs": [
    {
     "name": "stderr",
     "output_type": "stream",
     "text": [
      "100%|██████████| 33090/33090 [00:35<00:00, 937.16it/s]\n"
     ]
    }
   ],
   "source": [
    "b_extrapolate = load_cube(extrapolate, progress=True)"
   ]
  },
  {
   "cell_type": "code",
   "execution_count": null,
   "metadata": {},
   "outputs": [
    {
     "data": {
      "text/plain": [
       "{'c_vec': 0.6625163,\n",
       " 'c_cs': 0.5186600048277702,\n",
       " \"E_n'\": -1.0936269760131836,\n",
       " \"E_m'\": -8.866029582798074,\n",
       " 'eps': 2.0418775}"
      ]
     },
     "execution_count": null,
     "metadata": {},
     "output_type": "execute_result"
    }
   ],
   "source": [
    "evaluate(b_scratch_100000, b_extrapolate)"
   ]
  },
  {
   "cell_type": "code",
   "execution_count": null,
   "metadata": {},
   "outputs": [],
   "source": [
    "extrapolate_2000 = '/userhome/jeon_mg/workspace/__data/isee/noaa_12673/20170906_083600_extrapolate_2000/extrapolation_result.nf2'"
   ]
  },
  {
   "cell_type": "code",
   "execution_count": null,
   "metadata": {},
   "outputs": [
    {
     "name": "stderr",
     "output_type": "stream",
     "text": [
      "100%|██████████| 33090/33090 [00:44<00:00, 752.01it/s]\n"
     ]
    }
   ],
   "source": [
    "b_extrapolate_2000 = load_cube(extrapolate_2000, progress=True)"
   ]
  },
  {
   "cell_type": "code",
   "execution_count": null,
   "metadata": {},
   "outputs": [
    {
     "data": {
      "text/plain": [
       "{'c_vec': 0.47396848,\n",
       " 'c_cs': 0.4095051175456393,\n",
       " \"E_n'\": -1.319065809249878,\n",
       " \"E_m'\": -9.57257762172375,\n",
       " 'eps': 1.8154691}"
      ]
     },
     "execution_count": null,
     "metadata": {},
     "output_type": "execute_result"
    }
   ],
   "source": [
    "evaluate(b_scratch_100000, b_extrapolate_2000)"
   ]
  },
  {
   "cell_type": "code",
   "execution_count": null,
   "metadata": {},
   "outputs": [],
   "source": []
  }
 ],
 "metadata": {
  "kernelspec": {
   "display_name": "python3",
   "language": "python",
   "name": "python3"
  }
 },
 "nbformat": 4,
 "nbformat_minor": 2
}
