{
 "cells": [
  {
   "cell_type": "code",
   "execution_count": null,
   "metadata": {},
   "outputs": [],
   "source": [
    "import os \n",
    "os.environ['CUDA_VISIBLE_DEVICES'] = '3'\n",
    "\n",
    "import torch\n",
    "\n",
    "from tool.model import net\n",
    "from tool.load import *\n",
    "from tool.evaluate import *"
   ]
  },
  {
   "cell_type": "code",
   "execution_count": null,
   "metadata": {},
   "outputs": [],
   "source": [
    "file_list = nc_list(\"/mnt/obsdata/isee_nlfff_v1.2/12673\")"
   ]
  },
  {
   "cell_type": "code",
   "execution_count": null,
   "metadata": {},
   "outputs": [],
   "source": [
    "def create_pair(nc_file):\n",
    "    b = load_b(nc_file)\n",
    "\n",
    "    b_norm = 2500\n",
    "    input_data = b[:, :, :, 0]\n",
    "    input_data = input_data[:, :, :, None] / b_norm\n",
    "    output_data = b[:, :, :, :50] / b_norm\n",
    "\n",
    "    return input_data, output_data"
   ]
  },
  {
   "cell_type": "code",
   "execution_count": null,
   "metadata": {},
   "outputs": [
    {
     "data": {
      "text/plain": [
       "20"
      ]
     },
     "execution_count": null,
     "metadata": {},
     "output_type": "execute_result"
    }
   ],
   "source": [
    "len(file_list[::20])"
   ]
  },
  {
   "cell_type": "code",
   "execution_count": null,
   "metadata": {},
   "outputs": [],
   "source": [
    "results = map(create_pair, file_list[::20])\n",
    "k = list(results)"
   ]
  },
  {
   "cell_type": "code",
   "execution_count": null,
   "metadata": {},
   "outputs": [],
   "source": [
    "k[0]"
   ]
  },
  {
   "cell_type": "code",
   "execution_count": null,
   "metadata": {},
   "outputs": [
    {
     "data": {
      "text/plain": [
       "((3, 513, 257, 50), (3, 513, 257, 50))"
      ]
     },
     "execution_count": null,
     "metadata": {},
     "output_type": "execute_result"
    }
   ],
   "source": [
    "k[0][1].shape, k[1][1].shape"
   ]
  },
  {
   "cell_type": "code",
   "execution_count": null,
   "metadata": {},
   "outputs": [],
   "source": [
    "inputs = [k[i][0] for i in range(len(k))]\n",
    "outputs = [k[i][1] for i in range(len(k))]"
   ]
  },
  {
   "cell_type": "code",
   "execution_count": null,
   "metadata": {},
   "outputs": [
    {
     "data": {
      "text/plain": [
       "(3, 513, 257, 1)"
      ]
     },
     "execution_count": null,
     "metadata": {},
     "output_type": "execute_result"
    }
   ],
   "source": [
    "inputs[0].shape"
   ]
  },
  {
   "cell_type": "code",
   "execution_count": null,
   "metadata": {},
   "outputs": [
    {
     "data": {
      "text/plain": [
       "(3, 513, 257, 50)"
      ]
     },
     "execution_count": null,
     "metadata": {},
     "output_type": "execute_result"
    }
   ],
   "source": [
    "outputs[0].shape"
   ]
  },
  {
   "cell_type": "code",
   "execution_count": null,
   "metadata": {},
   "outputs": [
    {
     "data": {
      "text/plain": [
       "True"
      ]
     },
     "execution_count": null,
     "metadata": {},
     "output_type": "execute_result"
    }
   ],
   "source": [
    "np.allclose(inputs[0][..., 0], outputs[0][..., 0])"
   ]
  },
  {
   "cell_type": "code",
   "execution_count": null,
   "metadata": {},
   "outputs": [],
   "source": [
    "np.save('inputs.npy', inputs)\n",
    "np.save('outputs.npy', outputs)"
   ]
  },
  {
   "cell_type": "code",
   "execution_count": null,
   "metadata": {},
   "outputs": [],
   "source": [
    "import matplotlib.pyplot as plt"
   ]
  },
  {
   "cell_type": "code",
   "execution_count": null,
   "metadata": {},
   "outputs": [],
   "source": [
    "plt.imshow(k[0][0][2, :, :, 0].T, origin='lower')"
   ]
  },
  {
   "cell_type": "code",
   "execution_count": null,
   "metadata": {},
   "outputs": [
    {
     "data": {
      "text/plain": [
       "True"
      ]
     },
     "execution_count": null,
     "metadata": {},
     "output_type": "execute_result"
    }
   ],
   "source": [
    "np.allclose(k[0][0][2, :, :, 0], k[0][1][2, :, :, 0])"
   ]
  },
  {
   "cell_type": "code",
   "execution_count": null,
   "metadata": {},
   "outputs": [],
   "source": [
    "b = load_b(file_list[0])"
   ]
  },
  {
   "cell_type": "code",
   "execution_count": null,
   "metadata": {},
   "outputs": [],
   "source": [
    "input_data = b[:, :, :, 0]\n",
    "input_data = input_data[:, :, :, None]\n",
    "input_data = torch.Tensor(input_data) / b_norm\n",
    "output_data = b[:, :, :, :50]\n",
    "output_data = output_data\n",
    "output_data = torch.Tensor(output_data) / b_norm"
   ]
  },
  {
   "cell_type": "code",
   "execution_count": null,
   "metadata": {},
   "outputs": [],
   "source": [
    "from torch.utils.data import Dataset, DataLoader, RandomSampler"
   ]
  },
  {
   "cell_type": "code",
   "execution_count": null,
   "metadata": {},
   "outputs": [],
   "source": [
    "batches_file_paths = {'inputs': 'inputs.npy', 'outputs':'outputs.npy'}"
   ]
  },
  {
   "cell_type": "code",
   "execution_count": null,
   "metadata": {},
   "outputs": [],
   "source": [
    "class CustomDataset(Dataset):\n",
    "    def __init__(self, batches_file_paths, batch_size):\n",
    "        self.batches_file_paths = batches_file_paths\n",
    "        self.batch_size = batch_size\n",
    "\n",
    "    def __len__(self):\n",
    "        return np.ceil(np.load(list(self.batches_file_paths.values())[0], mmap_mode='r').shape[0] / self.batch_size).astype(np.int32)\n",
    "\n",
    "    def __getitem__(self, idx):\n",
    "        data = {k: np.copy(np.load(bf, mmap_mode='r')[idx * self.batch_size: (idx + 1) * self.batch_size])\n",
    "                for k, bf in self.batches_file_paths.items()}\n",
    "        return data"
   ]
  },
  {
   "cell_type": "code",
   "execution_count": null,
   "metadata": {},
   "outputs": [],
   "source": [
    "dataset = CustomDataset(batches_file_paths, batch_size=2)\n",
    "dataloaer = DataLoader(dataset, batch_size=None, num_workers=8, pin_memory=True,\n",
    "                       sampler=RandomSampler(dataset, replacement=True, num_samples=10))"
   ]
  },
  {
   "cell_type": "code",
   "execution_count": null,
   "metadata": {},
   "outputs": [
    {
     "name": "stdout",
     "output_type": "stream",
     "text": [
      "0\n",
      "torch.Size([2, 3, 513, 257, 1])\n",
      "torch.Size([2, 3, 513, 257, 50])\n",
      "1\n",
      "torch.Size([2, 3, 513, 257, 1])\n",
      "torch.Size([2, 3, 513, 257, 50])\n",
      "2\n",
      "torch.Size([2, 3, 513, 257, 1])\n",
      "torch.Size([2, 3, 513, 257, 50])\n",
      "3\n",
      "torch.Size([2, 3, 513, 257, 1])\n",
      "torch.Size([2, 3, 513, 257, 50])\n",
      "4\n",
      "torch.Size([2, 3, 513, 257, 1])\n",
      "torch.Size([2, 3, 513, 257, 50])\n",
      "5\n",
      "torch.Size([2, 3, 513, 257, 1])\n",
      "torch.Size([2, 3, 513, 257, 50])\n",
      "6\n",
      "torch.Size([2, 3, 513, 257, 1])\n",
      "torch.Size([2, 3, 513, 257, 50])\n",
      "7\n",
      "torch.Size([2, 3, 513, 257, 1])\n",
      "torch.Size([2, 3, 513, 257, 50])\n",
      "8\n",
      "torch.Size([2, 3, 513, 257, 1])\n",
      "torch.Size([2, 3, 513, 257, 50])\n",
      "9\n",
      "torch.Size([2, 3, 513, 257, 1])\n",
      "torch.Size([2, 3, 513, 257, 50])\n"
     ]
    }
   ],
   "source": [
    "for batch_idx, samples in enumerate(dataloaer):\n",
    "    print(batch_idx)\n",
    "    print(samples['inputs'].shape)\n",
    "    print(samples['outputs'].shape)"
   ]
  },
  {
   "cell_type": "code",
   "execution_count": null,
   "metadata": {},
   "outputs": [],
   "source": [
    "from torch.optim import Adam\n",
    "from torch import nn"
   ]
  },
  {
   "cell_type": "code",
   "execution_count": null,
   "metadata": {},
   "outputs": [],
   "source": [
    "model = net().to('cuda')"
   ]
  },
  {
   "cell_type": "code",
   "execution_count": null,
   "metadata": {},
   "outputs": [],
   "source": [
    "criterion = nn.MSELoss()\n",
    "\n",
    "# from tool.diff import *\n",
    "# def criterion(outputs, labels):\n",
    "#     loss_bc = torch.mean((outputs[..., 0] - labels[..., 0])**2)\n",
    "\n",
    "#     Bx = outputs[:, 0, ...]\n",
    "#     By = outputs[:, 1, ...]\n",
    "#     Bz = outputs[:, 2, ...]\n",
    "\n",
    "#     Jx, Jy, Jz = curl(Bx, By, Bz, 1, 1, 1)\n",
    "    \n",
    "#     B = torch.stack([Bx, By, Bz], -1)\n",
    "#     J = torch.stack([Jx, Jy, Jz], -1)\n",
    "\n",
    "#     JxB = torch.cross(J, B, -1)\n",
    "#     loss_ff = torch.linalg.norm(JxB, -1)**2\n",
    "\n",
    "#     divB = divergence(Bx, By, Bz, 1, 1 ,1)\n",
    "#     loss_div = divB**2\n",
    "\n",
    "#     loss = loss_bc + loss_ff + loss_div\n",
    "\n",
    "#     return loss"
   ]
  },
  {
   "cell_type": "code",
   "execution_count": null,
   "metadata": {},
   "outputs": [],
   "source": [
    "optimizer = Adam(model.parameters(), lr=1e-3)"
   ]
  },
  {
   "cell_type": "code",
   "execution_count": null,
   "metadata": {},
   "outputs": [],
   "source": [
    "import wandb"
   ]
  },
  {
   "cell_type": "code",
   "execution_count": null,
   "metadata": {},
   "outputs": [
    {
     "name": "stderr",
     "output_type": "stream",
     "text": [
      "Failed to detect the name of this notebook, you can set it manually with the WANDB_NOTEBOOK_NAME environment variable to enable code saving.\n",
      "\u001b[34m\u001b[1mwandb\u001b[0m: Currently logged in as: \u001b[33mmgjeon\u001b[0m. Use \u001b[1m`wandb login --relogin`\u001b[0m to force relogin\n"
     ]
    },
    {
     "data": {
      "text/html": [
       "Tracking run with wandb version 0.15.12"
      ],
      "text/plain": [
       "<IPython.core.display.HTML object>"
      ]
     },
     "metadata": {},
     "output_type": "display_data"
    },
    {
     "data": {
      "text/html": [
       "Run data is saved locally in <code>/userhome/jeon_mg/workspace/project/NF2_notebooks/cnn/wandb/run-20231016_164716-ampt74ng</code>"
      ],
      "text/plain": [
       "<IPython.core.display.HTML object>"
      ]
     },
     "metadata": {},
     "output_type": "display_data"
    },
    {
     "data": {
      "text/html": [
       "Syncing run <strong><a href='https://wandb.ai/mgjeon/project-NF2_notebooks_cnn/runs/ampt74ng' target=\"_blank\">giddy-bush-1</a></strong> to <a href='https://wandb.ai/mgjeon/project-NF2_notebooks_cnn' target=\"_blank\">Weights & Biases</a> (<a href='https://wandb.me/run' target=\"_blank\">docs</a>)<br/>"
      ],
      "text/plain": [
       "<IPython.core.display.HTML object>"
      ]
     },
     "metadata": {},
     "output_type": "display_data"
    },
    {
     "data": {
      "text/html": [
       " View project at <a href='https://wandb.ai/mgjeon/project-NF2_notebooks_cnn' target=\"_blank\">https://wandb.ai/mgjeon/project-NF2_notebooks_cnn</a>"
      ],
      "text/plain": [
       "<IPython.core.display.HTML object>"
      ]
     },
     "metadata": {},
     "output_type": "display_data"
    },
    {
     "data": {
      "text/html": [
       " View run at <a href='https://wandb.ai/mgjeon/project-NF2_notebooks_cnn/runs/ampt74ng' target=\"_blank\">https://wandb.ai/mgjeon/project-NF2_notebooks_cnn/runs/ampt74ng</a>"
      ],
      "text/plain": [
       "<IPython.core.display.HTML object>"
      ]
     },
     "metadata": {},
     "output_type": "display_data"
    },
    {
     "data": {
      "text/html": [
       "<button onClick=\"this.nextSibling.style.display='block';this.style.display='none';\">Display W&B run</button><iframe src='https://wandb.ai/mgjeon/project-NF2_notebooks_cnn/runs/ampt74ng?jupyter=true' style='border:none;width:100%;height:420px;display:none;'></iframe>"
      ],
      "text/plain": [
       "<wandb.sdk.wandb_run.Run>"
      ]
     },
     "execution_count": null,
     "metadata": {},
     "output_type": "execute_result"
    }
   ],
   "source": [
    "wandb.init()"
   ]
  },
  {
   "cell_type": "code",
   "execution_count": null,
   "metadata": {},
   "outputs": [],
   "source": [
    "def plots(b, B, z=0, b_norm=2500):\n",
    "    fig, axs = plt.subplots(2, 3, figsize=(12, 4))\n",
    "\n",
    "    ax = axs[0]\n",
    "    ax[0].imshow(b[..., z, 0].transpose(), vmin=-b_norm, vmax=b_norm, cmap='gray', origin='lower')\n",
    "    ax[0].set_title('bx')\n",
    "    ax[1].imshow(b[..., z, 1].transpose(), vmin=-b_norm, vmax=b_norm, cmap='gray', origin='lower')\n",
    "    ax[1].set_title('by')\n",
    "    ax[2].imshow(b[..., z, 2].transpose(), vmin=-b_norm, vmax=b_norm, cmap='gray', origin='lower')\n",
    "    ax[2].set_title('bz')\n",
    "\n",
    "    ax = axs[1]\n",
    "    ax[0].imshow(B[..., z, 0].transpose(), vmin=-b_norm, vmax=b_norm, cmap='gray', origin='lower')\n",
    "    ax[0].set_title('Bx')\n",
    "    ax[1].imshow(B[..., z, 1].transpose(), vmin=-b_norm, vmax=b_norm, cmap='gray', origin='lower')\n",
    "    ax[1].set_title('By')\n",
    "    ax[2].imshow(B[..., z, 2].transpose(), vmin=-b_norm, vmax=b_norm, cmap='gray', origin='lower')\n",
    "    ax[2].set_title('Bz')\n",
    "    \n",
    "    plt.tight_layout()\n",
    "    plt.close()\n",
    "    \n",
    "    return fig"
   ]
  },
  {
   "cell_type": "code",
   "execution_count": null,
   "metadata": {},
   "outputs": [
    {
     "ename": "KeyboardInterrupt",
     "evalue": "",
     "output_type": "error",
     "traceback": [
      "\u001b[0;31m---------------------------------------------------------------------------\u001b[0m",
      "\u001b[0;31mKeyboardInterrupt\u001b[0m                         Traceback (most recent call last)",
      "\u001b[1;32m/userhome/jeon_mg/workspace/project/NF2_notebooks/cnn/train.ipynb Cell 15\u001b[0m line \u001b[0;36m5\n\u001b[1;32m      <a href='vscode-notebook-cell://ssh-remote%2Bgpuserver_38/userhome/jeon_mg/workspace/project/NF2_notebooks/cnn/train.ipynb#X15sdnNjb2RlLXJlbW90ZQ%3D%3D?line=2'>3</a>\u001b[0m model\u001b[39m.\u001b[39mtrain()\n\u001b[1;32m      <a href='vscode-notebook-cell://ssh-remote%2Bgpuserver_38/userhome/jeon_mg/workspace/project/NF2_notebooks/cnn/train.ipynb#X15sdnNjb2RlLXJlbW90ZQ%3D%3D?line=3'>4</a>\u001b[0m \u001b[39mfor\u001b[39;00m epoch \u001b[39min\u001b[39;00m \u001b[39mrange\u001b[39m(\u001b[39m10000\u001b[39m):\n\u001b[0;32m----> <a href='vscode-notebook-cell://ssh-remote%2Bgpuserver_38/userhome/jeon_mg/workspace/project/NF2_notebooks/cnn/train.ipynb#X15sdnNjb2RlLXJlbW90ZQ%3D%3D?line=4'>5</a>\u001b[0m     inputs \u001b[39m=\u001b[39m input_data\u001b[39m.\u001b[39;49mto(\u001b[39m'\u001b[39;49m\u001b[39mcuda\u001b[39;49m\u001b[39m'\u001b[39;49m)[\u001b[39mNone\u001b[39;00m, \u001b[39m.\u001b[39m\u001b[39m.\u001b[39m\u001b[39m.\u001b[39m]\n\u001b[1;32m      <a href='vscode-notebook-cell://ssh-remote%2Bgpuserver_38/userhome/jeon_mg/workspace/project/NF2_notebooks/cnn/train.ipynb#X15sdnNjb2RlLXJlbW90ZQ%3D%3D?line=5'>6</a>\u001b[0m     labels \u001b[39m=\u001b[39m output_data\u001b[39m.\u001b[39mto(\u001b[39m'\u001b[39m\u001b[39mcuda\u001b[39m\u001b[39m'\u001b[39m)[\u001b[39mNone\u001b[39;00m, \u001b[39m.\u001b[39m\u001b[39m.\u001b[39m\u001b[39m.\u001b[39m]\n\u001b[1;32m      <a href='vscode-notebook-cell://ssh-remote%2Bgpuserver_38/userhome/jeon_mg/workspace/project/NF2_notebooks/cnn/train.ipynb#X15sdnNjb2RlLXJlbW90ZQ%3D%3D?line=7'>8</a>\u001b[0m     optimizer\u001b[39m.\u001b[39mzero_grad()\n",
      "\u001b[0;31mKeyboardInterrupt\u001b[0m: "
     ]
    }
   ],
   "source": [
    "wandb.watch(model, log_freq=10)\n",
    "\n",
    "model.train()\n",
    "for epoch in range(10000):\n",
    "    for batch_idx, samples in enumerate(dataloaer):\n",
    "        inputs = samples['inputs']\n",
    "        outputs = samples['outputs']\n",
    "        inputs = inputs.to('cuda')[None, ...]\n",
    "        labels = outputs.to('cuda')[None, ...]\n",
    "\n",
    "        optimizer.zero_grad()\n",
    "        outputs = model(inputs)\n",
    "        loss = criterion(outputs, labels)\n",
    "        loss.backward()\n",
    "        optimizer.step()\n",
    "\n",
    "        if (epoch + 1) % 10 == 0:\n",
    "            wandb.log({\"loss\": loss})\n",
    "\n",
    "            bb = outputs.cpu().detach().numpy().squeeze().transpose(1, 2, 3, 0)\n",
    "            BB = labels.cpu().detach().numpy().squeeze().transpose(1, 2, 3, 0)\n",
    "            fig = plots(bb, BB, b_norm=1)\n",
    "            wandb.log({\"img\": fig})"
   ]
  },
  {
   "cell_type": "code",
   "execution_count": null,
   "metadata": {},
   "outputs": [],
   "source": [
    "# bb = model(input_data.to('cuda'))\n",
    "bb = outputs.cpu().detach().numpy().squeeze().transpose(1, 2, 3, 0)\n",
    "BB = labels.cpu().detach().numpy().squeeze().transpose(1, 2, 3, 0)"
   ]
  },
  {
   "cell_type": "code",
   "execution_count": null,
   "metadata": {},
   "outputs": [],
   "source": [
    "fig = plots(bb, BB, b_norm=1)"
   ]
  },
  {
   "cell_type": "code",
   "execution_count": null,
   "metadata": {},
   "outputs": [],
   "source": [
    "inputs = np.load('inputs.npy')"
   ]
  },
  {
   "cell_type": "code",
   "execution_count": null,
   "metadata": {},
   "outputs": [
    {
     "data": {
      "text/plain": [
       "(10, 3, 513, 257, 1)"
      ]
     },
     "execution_count": null,
     "metadata": {},
     "output_type": "execute_result"
    }
   ],
   "source": [
    "inputs.shape"
   ]
  },
  {
   "cell_type": "code",
   "execution_count": null,
   "metadata": {},
   "outputs": [],
   "source": []
  }
 ],
 "metadata": {
  "kernelspec": {
   "display_name": "python3",
   "language": "python",
   "name": "python3"
  }
 },
 "nbformat": 4,
 "nbformat_minor": 2
}
