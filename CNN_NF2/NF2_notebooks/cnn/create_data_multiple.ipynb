{
 "cells": [
  {
   "cell_type": "code",
   "execution_count": null,
   "metadata": {},
   "outputs": [],
   "source": [
    "import numpy as np"
   ]
  },
  {
   "cell_type": "code",
   "execution_count": null,
   "metadata": {},
   "outputs": [],
   "source": [
    "noaas = [11302, 11429, 11515, 12192]\n",
    "\n",
    "inputs = []\n",
    "labels = []\n",
    "for noaa in noaas:\n",
    "    input_path = f'data/train_inputs_{noaa}.npy'\n",
    "    label_path = f'data/train_labels_{noaa}.npy'\n",
    "    input_value = np.load(input_path)\n",
    "    label_value = np.load(label_path)\n",
    "    inputs.append(input_value)\n",
    "    labels.append(label_value)"
   ]
  },
  {
   "cell_type": "code",
   "execution_count": null,
   "metadata": {},
   "outputs": [
    {
     "data": {
      "text/plain": [
       "(544, 3, 513, 257, 1)"
      ]
     },
     "execution_count": null,
     "metadata": {},
     "output_type": "execute_result"
    }
   ],
   "source": [
    "inputs_array = np.vstack(inputs)\n",
    "inputs_array.shape"
   ]
  },
  {
   "cell_type": "code",
   "execution_count": null,
   "metadata": {},
   "outputs": [],
   "source": [
    "np.save('data/train_inputs.npy', inputs_array)"
   ]
  },
  {
   "cell_type": "code",
   "execution_count": null,
   "metadata": {},
   "outputs": [],
   "source": []
  }
 ],
 "metadata": {
  "kernelspec": {
   "display_name": "python3",
   "language": "python",
   "name": "python3"
  }
 },
 "nbformat": 4,
 "nbformat_minor": 2
}
