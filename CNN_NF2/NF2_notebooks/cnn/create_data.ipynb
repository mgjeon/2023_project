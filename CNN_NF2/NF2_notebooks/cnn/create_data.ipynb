{
 "cells": [
  {
   "cell_type": "code",
   "execution_count": null,
   "metadata": {},
   "outputs": [],
   "source": [
    "from tool.load import *\n",
    "from tool.evaluate import *\n",
    "from tool.dataset import *"
   ]
  },
  {
   "cell_type": "code",
   "execution_count": null,
   "metadata": {},
   "outputs": [
    {
     "data": {
      "text/plain": [
       "544"
      ]
     },
     "execution_count": null,
     "metadata": {},
     "output_type": "execute_result"
    }
   ],
   "source": [
    "file_list = nc_list(\"/mnt/obsdata/isee_nlfff_v1.2/11302\")\n",
    "file_list += nc_list(\"/mnt/obsdata/isee_nlfff_v1.2/11429\")\n",
    "file_list += nc_list(\"/mnt/obsdata/isee_nlfff_v1.2/11515\")\n",
    "file_list += nc_list(\"/mnt/obsdata/isee_nlfff_v1.2/12192\")\n",
    "\n",
    "len(file_list)"
   ]
  },
  {
   "cell_type": "code",
   "execution_count": null,
   "metadata": {},
   "outputs": [],
   "source": [
    "from sklearn.model_selection import train_test_split"
   ]
  },
  {
   "cell_type": "code",
   "execution_count": null,
   "metadata": {},
   "outputs": [],
   "source": [
    "X_train, X_test = train_test_split(file_list, test_size=0.10, random_state=42)"
   ]
  },
  {
   "cell_type": "code",
   "execution_count": null,
   "metadata": {},
   "outputs": [
    {
     "data": {
      "text/plain": [
       "(489, 55)"
      ]
     },
     "execution_count": null,
     "metadata": {},
     "output_type": "execute_result"
    }
   ],
   "source": [
    "len(X_train), len(X_test)"
   ]
  },
  {
   "cell_type": "code",
   "execution_count": null,
   "metadata": {},
   "outputs": [],
   "source": [
    "from tqdm import tqdm"
   ]
  },
  {
   "cell_type": "code",
   "execution_count": null,
   "metadata": {},
   "outputs": [],
   "source": [
    "def save_input_label(file_list, inputs_path, labels_path):\n",
    "    inputs = []\n",
    "    labels = []\n",
    "    for file in tqdm(file_list):\n",
    "        input_p, output_p = create_pair(file)\n",
    "        inputs.append(input_p)\n",
    "        labels.append(output_p)\n",
    "\n",
    "    inputs = np.array(inputs).astype(np.float32)\n",
    "    labels = np.array(labels).astype(np.float32)\n",
    "\n",
    "    np.save(inputs_path, inputs)\n",
    "    np.save(labels_path, labels)"
   ]
  },
  {
   "cell_type": "code",
   "execution_count": null,
   "metadata": {},
   "outputs": [
    {
     "name": "stderr",
     "output_type": "stream",
     "text": [
      "  9%|▉         | 44/489 [09:59<1:41:07, 13.64s/it]\n"
     ]
    },
    {
     "ename": "KeyboardInterrupt",
     "evalue": "",
     "output_type": "error",
     "traceback": [
      "\u001b[0;31m---------------------------------------------------------------------------\u001b[0m",
      "\u001b[0;31mKeyboardInterrupt\u001b[0m                         Traceback (most recent call last)",
      "\u001b[1;32m/userhome/jeon_mg/workspace/project/NF2_notebooks/cnn/create_data.ipynb Cell 8\u001b[0m line \u001b[0;36m1\n\u001b[0;32m----> <a href='vscode-notebook-cell://ssh-remote%2Bgpuserver_38/userhome/jeon_mg/workspace/project/NF2_notebooks/cnn/create_data.ipynb#X23sdnNjb2RlLXJlbW90ZQ%3D%3D?line=0'>1</a>\u001b[0m save_input_label(X_train, \u001b[39m'\u001b[39;49m\u001b[39mdata/train_inputs.npy\u001b[39;49m\u001b[39m'\u001b[39;49m, \u001b[39m'\u001b[39;49m\u001b[39mdata/train_labels.npy\u001b[39;49m\u001b[39m'\u001b[39;49m)\n",
      "\u001b[1;32m/userhome/jeon_mg/workspace/project/NF2_notebooks/cnn/create_data.ipynb Cell 8\u001b[0m line \u001b[0;36m5\n\u001b[1;32m      <a href='vscode-notebook-cell://ssh-remote%2Bgpuserver_38/userhome/jeon_mg/workspace/project/NF2_notebooks/cnn/create_data.ipynb#X23sdnNjb2RlLXJlbW90ZQ%3D%3D?line=2'>3</a>\u001b[0m labels \u001b[39m=\u001b[39m []\n\u001b[1;32m      <a href='vscode-notebook-cell://ssh-remote%2Bgpuserver_38/userhome/jeon_mg/workspace/project/NF2_notebooks/cnn/create_data.ipynb#X23sdnNjb2RlLXJlbW90ZQ%3D%3D?line=3'>4</a>\u001b[0m \u001b[39mfor\u001b[39;00m file \u001b[39min\u001b[39;00m tqdm(file_list):\n\u001b[0;32m----> <a href='vscode-notebook-cell://ssh-remote%2Bgpuserver_38/userhome/jeon_mg/workspace/project/NF2_notebooks/cnn/create_data.ipynb#X23sdnNjb2RlLXJlbW90ZQ%3D%3D?line=4'>5</a>\u001b[0m     input_p, output_p \u001b[39m=\u001b[39m create_pair(file)\n\u001b[1;32m      <a href='vscode-notebook-cell://ssh-remote%2Bgpuserver_38/userhome/jeon_mg/workspace/project/NF2_notebooks/cnn/create_data.ipynb#X23sdnNjb2RlLXJlbW90ZQ%3D%3D?line=5'>6</a>\u001b[0m     inputs\u001b[39m.\u001b[39mappend(input_p)\n\u001b[1;32m      <a href='vscode-notebook-cell://ssh-remote%2Bgpuserver_38/userhome/jeon_mg/workspace/project/NF2_notebooks/cnn/create_data.ipynb#X23sdnNjb2RlLXJlbW90ZQ%3D%3D?line=6'>7</a>\u001b[0m     labels\u001b[39m.\u001b[39mappend(output_p)\n",
      "File \u001b[0;32m~/workspace/project/NF2_notebooks/cnn/tool/load.py:26\u001b[0m, in \u001b[0;36mcreate_pair\u001b[0;34m(nc_file)\u001b[0m\n\u001b[1;32m     25\u001b[0m \u001b[39mdef\u001b[39;00m \u001b[39mcreate_pair\u001b[39m(nc_file):\n\u001b[0;32m---> 26\u001b[0m     b \u001b[39m=\u001b[39m load_b(nc_file)\n\u001b[1;32m     28\u001b[0m     b_norm \u001b[39m=\u001b[39m \u001b[39m2500\u001b[39m\n\u001b[1;32m     29\u001b[0m     input_data \u001b[39m=\u001b[39m b[:, :, :, \u001b[39m0\u001b[39m]\n",
      "File \u001b[0;32m~/workspace/project/NF2_notebooks/cnn/tool/load.py:10\u001b[0m, in \u001b[0;36mload_b\u001b[0;34m(nc_file)\u001b[0m\n\u001b[1;32m      8\u001b[0m bx\u001b[39m=\u001b[39mnc_bx[:]\u001b[39m.\u001b[39mtranspose(\u001b[39m2\u001b[39m,\u001b[39m1\u001b[39m,\u001b[39m0\u001b[39m)\n\u001b[1;32m      9\u001b[0m nc_by\u001b[39m=\u001b[39mnc\u001b[39m.\u001b[39mvariables[\u001b[39m'\u001b[39m\u001b[39mBy\u001b[39m\u001b[39m'\u001b[39m]\n\u001b[0;32m---> 10\u001b[0m by\u001b[39m=\u001b[39mnc_by[:]\u001b[39m.\u001b[39mtranspose(\u001b[39m2\u001b[39m,\u001b[39m1\u001b[39m,\u001b[39m0\u001b[39m)\n\u001b[1;32m     11\u001b[0m nc_bz\u001b[39m=\u001b[39mnc\u001b[39m.\u001b[39mvariables[\u001b[39m'\u001b[39m\u001b[39mBz\u001b[39m\u001b[39m'\u001b[39m]\n\u001b[1;32m     12\u001b[0m bz\u001b[39m=\u001b[39mnc_bz[:]\u001b[39m.\u001b[39mtranspose(\u001b[39m2\u001b[39m,\u001b[39m1\u001b[39m,\u001b[39m0\u001b[39m)\n",
      "File \u001b[0;32msrc/netCDF4/_netCDF4.pyx:4997\u001b[0m, in \u001b[0;36mnetCDF4._netCDF4.Variable.__getitem__\u001b[0;34m()\u001b[0m\n",
      "File \u001b[0;32msrc/netCDF4/_netCDF4.pyx:5145\u001b[0m, in \u001b[0;36mnetCDF4._netCDF4.Variable._toma\u001b[0;34m()\u001b[0m\n",
      "File \u001b[0;32m~/miniforge3/envs/pinn_torch/lib/python3.10/site-packages/numpy/core/_methods.py:55\u001b[0m, in \u001b[0;36m_any\u001b[0;34m(a, axis, dtype, out, keepdims, where)\u001b[0m\n\u001b[1;32m     51\u001b[0m \u001b[39mdef\u001b[39;00m \u001b[39m_prod\u001b[39m(a, axis\u001b[39m=\u001b[39m\u001b[39mNone\u001b[39;00m, dtype\u001b[39m=\u001b[39m\u001b[39mNone\u001b[39;00m, out\u001b[39m=\u001b[39m\u001b[39mNone\u001b[39;00m, keepdims\u001b[39m=\u001b[39m\u001b[39mFalse\u001b[39;00m,\n\u001b[1;32m     52\u001b[0m           initial\u001b[39m=\u001b[39m_NoValue, where\u001b[39m=\u001b[39m\u001b[39mTrue\u001b[39;00m):\n\u001b[1;32m     53\u001b[0m     \u001b[39mreturn\u001b[39;00m umr_prod(a, axis, dtype, out, keepdims, initial, where)\n\u001b[0;32m---> 55\u001b[0m \u001b[39mdef\u001b[39;00m \u001b[39m_any\u001b[39m(a, axis\u001b[39m=\u001b[39m\u001b[39mNone\u001b[39;00m, dtype\u001b[39m=\u001b[39m\u001b[39mNone\u001b[39;00m, out\u001b[39m=\u001b[39m\u001b[39mNone\u001b[39;00m, keepdims\u001b[39m=\u001b[39m\u001b[39mFalse\u001b[39;00m, \u001b[39m*\u001b[39m, where\u001b[39m=\u001b[39m\u001b[39mTrue\u001b[39;00m):\n\u001b[1;32m     56\u001b[0m     \u001b[39m# Parsing keyword arguments is currently fairly slow, so avoid it for now\u001b[39;00m\n\u001b[1;32m     57\u001b[0m     \u001b[39mif\u001b[39;00m where \u001b[39mis\u001b[39;00m \u001b[39mTrue\u001b[39;00m:\n\u001b[1;32m     58\u001b[0m         \u001b[39mreturn\u001b[39;00m umr_any(a, axis, dtype, out, keepdims)\n",
      "\u001b[0;31mKeyboardInterrupt\u001b[0m: "
     ]
    }
   ],
   "source": [
    "save_input_label(X_train, 'data/train_inputs.npy', 'data/train_labels.npy')"
   ]
  },
  {
   "cell_type": "code",
   "execution_count": null,
   "metadata": {},
   "outputs": [],
   "source": [
    "save_input_label(X_test, 'data/test_inputs.npy', 'data/test_labels.npy')"
   ]
  },
  {
   "cell_type": "code",
   "execution_count": null,
   "metadata": {},
   "outputs": [],
   "source": [
    "# file_list[239]"
   ]
  },
  {
   "cell_type": "code",
   "execution_count": null,
   "metadata": {},
   "outputs": [],
   "source": [
    "# input_p, output_p = create_pair(file_list[239])\n",
    "\n",
    "# np.save('12673_20170906_083600_input.npy', input_p)\n",
    "# np.save('12673_20170906_083600_output.npy', output_p)"
   ]
  },
  {
   "cell_type": "code",
   "execution_count": null,
   "metadata": {},
   "outputs": [],
   "source": []
  }
 ],
 "metadata": {
  "kernelspec": {
   "display_name": "python3",
   "language": "python",
   "name": "python3"
  }
 },
 "nbformat": 4,
 "nbformat_minor": 2
}
