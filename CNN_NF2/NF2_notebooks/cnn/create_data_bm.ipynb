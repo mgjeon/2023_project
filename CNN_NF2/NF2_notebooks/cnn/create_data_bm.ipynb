{
 "cells": [
  {
   "cell_type": "code",
   "execution_count": null,
   "metadata": {},
   "outputs": [],
   "source": [
    "from tool.load import *\n",
    "from tool.evaluate import *\n",
    "from tool.dataset import *"
   ]
  },
  {
   "cell_type": "code",
   "execution_count": null,
   "metadata": {},
   "outputs": [],
   "source": [
    "import numpy as np"
   ]
  },
  {
   "cell_type": "code",
   "execution_count": null,
   "metadata": {},
   "outputs": [],
   "source": [
    "def create_pair_pot_bnorm_max(nc_file):\n",
    "    b, bp = load_b_pot(nc_file)\n",
    "\n",
    "    input_data = b[:, :, :, 0]\n",
    "    input_data = input_data[:, :, :, None]\n",
    "    input_max = np.max(np.abs(input_data))\n",
    "    input_data = input_data / input_max\n",
    "    output_data = b[:, :, :, :50]\n",
    "    output_data = output_data\n",
    "    output_data_p = bp[:, :, :, :50]\n",
    "    output_data_p = output_data_p\n",
    "\n",
    "    return input_max, input_data, output_data, output_data_p"
   ]
  },
  {
   "cell_type": "code",
   "execution_count": null,
   "metadata": {},
   "outputs": [
    {
     "data": {
      "text/plain": [
       "389"
      ]
     },
     "execution_count": null,
     "metadata": {},
     "output_type": "execute_result"
    }
   ],
   "source": [
    "file_list = nc_list(\"/mnt/obsdata/isee_nlfff_v1.2/12673\")\n",
    "\n",
    "len(file_list)"
   ]
  },
  {
   "cell_type": "code",
   "execution_count": null,
   "metadata": {},
   "outputs": [
    {
     "data": {
      "text/plain": [
       "[PosixPath('/mnt/obsdata/isee_nlfff_v1.2/12673/12673_20170904_000000.nc'),\n",
       " PosixPath('/mnt/obsdata/isee_nlfff_v1.2/12673/12673_20170904_104800.nc'),\n",
       " PosixPath('/mnt/obsdata/isee_nlfff_v1.2/12673/12673_20170904_184800.nc'),\n",
       " PosixPath('/mnt/obsdata/isee_nlfff_v1.2/12673/12673_20170905_030000.nc'),\n",
       " PosixPath('/mnt/obsdata/isee_nlfff_v1.2/12673/12673_20170905_132400.nc'),\n",
       " PosixPath('/mnt/obsdata/isee_nlfff_v1.2/12673/12673_20170905_212400.nc'),\n",
       " PosixPath('/mnt/obsdata/isee_nlfff_v1.2/12673/12673_20170906_084800.nc'),\n",
       " PosixPath('/mnt/obsdata/isee_nlfff_v1.2/12673/12673_20170906_164800.nc'),\n",
       " PosixPath('/mnt/obsdata/isee_nlfff_v1.2/12673/12673_20170907_011200.nc'),\n",
       " PosixPath('/mnt/obsdata/isee_nlfff_v1.2/12673/12673_20170907_111200.nc')]"
      ]
     },
     "execution_count": null,
     "metadata": {},
     "output_type": "execute_result"
    }
   ],
   "source": [
    "file_list[::40]"
   ]
  },
  {
   "cell_type": "code",
   "execution_count": null,
   "metadata": {},
   "outputs": [],
   "source": [
    "a, b, c = create_pair_pot(file_list[0])"
   ]
  },
  {
   "cell_type": "code",
   "execution_count": null,
   "metadata": {},
   "outputs": [
    {
     "data": {
      "text/plain": [
       "(1.0873400390625, 1.0873400390625, 1.0873400390625)"
      ]
     },
     "execution_count": null,
     "metadata": {},
     "output_type": "execute_result"
    }
   ],
   "source": [
    "np.max(a), np.max(b), np.max(c)"
   ]
  },
  {
   "cell_type": "code",
   "execution_count": null,
   "metadata": {},
   "outputs": [
    {
     "data": {
      "text/plain": [
       "(1.58963203125, 1.58963203125, 1.26283076171875)"
      ]
     },
     "execution_count": null,
     "metadata": {},
     "output_type": "execute_result"
    }
   ],
   "source": [
    "a, b, c = create_pair_pot(file_list[-1])\n",
    "np.max(a), np.max(b), np.max(c)"
   ]
  },
  {
   "cell_type": "code",
   "execution_count": null,
   "metadata": {},
   "outputs": [],
   "source": [
    "aa, bb, cc = create_pair_pot_bnorm_max(file_list[0])"
   ]
  },
  {
   "cell_type": "code",
   "execution_count": null,
   "metadata": {},
   "outputs": [
    {
     "data": {
      "text/plain": [
       "(1.0, 1.0, 1.0)"
      ]
     },
     "execution_count": null,
     "metadata": {},
     "output_type": "execute_result"
    }
   ],
   "source": [
    "np.max(aa), np.max(bb), np.max(cc)"
   ]
  },
  {
   "cell_type": "code",
   "execution_count": null,
   "metadata": {},
   "outputs": [],
   "source": [
    "from tqdm import tqdm"
   ]
  },
  {
   "cell_type": "code",
   "execution_count": null,
   "metadata": {},
   "outputs": [],
   "source": [
    "def save_input_label(file_list, inputs_max_path, inputs_path, labels_path, labels_pot_path):\n",
    "    inputs_max = []\n",
    "    inputs = []\n",
    "    labels = []\n",
    "    labels_pot = []\n",
    "    for file in tqdm(file_list):\n",
    "        input_max, input_p, output_p, output_p_pot = create_pair_pot_bnorm_max(file)\n",
    "        inputs_max.append(input_max)\n",
    "        inputs.append(input_p)\n",
    "        labels.append(output_p)\n",
    "        labels_pot.append(output_p_pot)\n",
    "\n",
    "    inputs = np.array(inputs).astype(np.float32)\n",
    "    labels = np.array(labels).astype(np.float32)\n",
    "    labels_pot = np.array(labels_pot).astype(np.float32)\n",
    "\n",
    "    np.save(inputs_max_path, inputs_max)\n",
    "    np.save(inputs_path, inputs)\n",
    "    np.save(labels_path, labels)\n",
    "    np.save(labels_pot_path, labels_pot)"
   ]
  },
  {
   "cell_type": "code",
   "execution_count": null,
   "metadata": {},
   "outputs": [
    {
     "name": "stderr",
     "output_type": "stream",
     "text": [
      "100%|██████████| 10/10 [04:20<00:00, 26.06s/it]\n"
     ]
    }
   ],
   "source": [
    "save_input_label(file_list[::40], 'data/bm_train_inputs_max.npy', 'data/bm_train_inputs.npy', 'data/bm_train_labels.npy', 'data/bm_train_labels_pot.npy')"
   ]
  },
  {
   "cell_type": "code",
   "execution_count": null,
   "metadata": {},
   "outputs": [],
   "source": [
    "inputs_max = np.load('data/bm_train_inputs_max.npy')"
   ]
  },
  {
   "cell_type": "code",
   "execution_count": null,
   "metadata": {},
   "outputs": [],
   "source": [
    "labels = np.load('data/bm_train_labels.npy')"
   ]
  },
  {
   "cell_type": "code",
   "execution_count": null,
   "metadata": {},
   "outputs": [
    {
     "data": {
      "text/plain": [
       "(10,)"
      ]
     },
     "execution_count": null,
     "metadata": {},
     "output_type": "execute_result"
    }
   ],
   "source": [
    "inputs_max.shape"
   ]
  },
  {
   "cell_type": "code",
   "execution_count": null,
   "metadata": {},
   "outputs": [
    {
     "data": {
      "text/plain": [
       "(10, 3, 513, 257, 50)"
      ]
     },
     "execution_count": null,
     "metadata": {},
     "output_type": "execute_result"
    }
   ],
   "source": [
    "labels.shape"
   ]
  },
  {
   "cell_type": "code",
   "execution_count": null,
   "metadata": {},
   "outputs": [
    {
     "data": {
      "text/plain": [
       "3778.52001953125"
      ]
     },
     "execution_count": null,
     "metadata": {},
     "output_type": "execute_result"
    }
   ],
   "source": [
    "inputs_max[3]"
   ]
  },
  {
   "cell_type": "code",
   "execution_count": null,
   "metadata": {},
   "outputs": [
    {
     "data": {
      "text/plain": [
       "3778.52"
      ]
     },
     "execution_count": null,
     "metadata": {},
     "output_type": "execute_result"
    }
   ],
   "source": [
    "np.max(np.abs(labels[3][..., 0]))"
   ]
  },
  {
   "cell_type": "code",
   "execution_count": null,
   "metadata": {},
   "outputs": [],
   "source": []
  }
 ],
 "metadata": {
  "kernelspec": {
   "display_name": "python3",
   "language": "python",
   "name": "python3"
  }
 },
 "nbformat": 4,
 "nbformat_minor": 2
}
