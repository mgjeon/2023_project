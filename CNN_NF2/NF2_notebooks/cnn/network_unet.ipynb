{
 "cells": [
  {
   "cell_type": "code",
   "execution_count": null,
   "metadata": {},
   "outputs": [],
   "source": [
    "import os \n",
    "os.environ['CUDA_VISIBLE_DEVICES'] = '3'"
   ]
  },
  {
   "cell_type": "code",
   "execution_count": null,
   "metadata": {},
   "outputs": [],
   "source": [
    "import torch\n",
    "from torch import nn\n",
    "import torch.nn.functional as F"
   ]
  },
  {
   "cell_type": "code",
   "execution_count": null,
   "metadata": {},
   "outputs": [],
   "source": [
    "b = torch.rand([1, 3, 513, 257, 1]).to('cuda')"
   ]
  },
  {
   "cell_type": "code",
   "execution_count": null,
   "metadata": {},
   "outputs": [
    {
     "data": {
      "text/plain": [
       "torch.Size([1, 3, 513, 257, 1])"
      ]
     },
     "execution_count": null,
     "metadata": {},
     "output_type": "execute_result"
    }
   ],
   "source": [
    "b.shape"
   ]
  },
  {
   "cell_type": "code",
   "execution_count": null,
   "metadata": {},
   "outputs": [],
   "source": [
    "import numpy as np"
   ]
  },
  {
   "cell_type": "code",
   "execution_count": null,
   "metadata": {},
   "outputs": [
    {
     "data": {
      "text/plain": [
       "(1, 1, 257, 513, 3)"
      ]
     },
     "execution_count": null,
     "metadata": {},
     "output_type": "execute_result"
    },
    {
     "ename": "",
     "evalue": "",
     "output_type": "error",
     "traceback": [
      "\u001b[1;31mThe Kernel crashed while executing code in the the current cell or a previous cell. Please review the code in the cell(s) to identify a possible cause of the failure. Click <a href='https://aka.ms/vscodeJupyterKernelCrash'>here</a> for more info. View Jupyter <a href='command:jupyter.viewOutput'>log</a> for further details."
     ]
    }
   ],
   "source": [
    "np.array(b.cpu().detach().numpy()).transpose(0, 4, 3, 2, 1).shape"
   ]
  },
  {
   "cell_type": "code",
   "execution_count": null,
   "metadata": {},
   "outputs": [],
   "source": [
    "# class Unet(nn.Module):\n",
    "#     def __init__(self):\n",
    "#         super().__init__()\n",
    "#         self.maxpool = nn.MaxPool3d(kernel_size=(2, 2, 1))\n",
    "\n",
    "#         self.encoder1 = nn.Sequential(\n",
    "#             nn.Conv3d(3, 32, kernel_size=(3, 3, 1)),\n",
    "#             nn.ReLU(),\n",
    "#             nn.Conv3d(32, 64, kernel_size=(3, 3, 1)),\n",
    "#             nn.ReLU(),\n",
    "#         )\n",
    "\n",
    "#         self.encoder2 = nn.Sequential(\n",
    "#             nn.Conv3d(64, 64, kernel_size=(3, 3, 1)),\n",
    "#             nn.ReLU(),\n",
    "#             nn.Conv3d(64, 128, kernel_size=(3, 3, 1)),\n",
    "#             nn.ReLU(),\n",
    "#         )\n",
    "\n",
    "#         self.encoder3 = nn.Sequential(\n",
    "#             nn.Conv3d(128, 128, kernel_size=(3, 3, 1)),\n",
    "#             nn.ReLU(),\n",
    "#             nn.Conv3d(128, 256, kernel_size=(3, 3, 1)),\n",
    "#             nn.ReLU(),\n",
    "#         )\n",
    "\n",
    "#         self.encoder4 = nn.Sequential(\n",
    "#             nn.Conv3d(256, 256, kernel_size=(3, 3, 1)),\n",
    "#             nn.ReLU(),\n",
    "#             nn.Conv3d(256, 512, kernel_size=(3, 3, 1)),\n",
    "#             nn.ReLU(),\n",
    "#         )\n",
    "\n",
    "#         self.upconv = nn.ConvTranspose3d(512, 512, kernel_size=(2, 2, 16), stride=(2, 2, 1))\n",
    "\n",
    "#         self.decoder3 = nn.Sequential(\n",
    "#             nn.ConvTranspose3d(512, 512, kernel_size=(3, 3, 1), stride=(2, 2, 64)),\n",
    "#             nn.ReLU(),\n",
    "#             nn.Conv3d(512, 256, kernel_size=(3, 3, 1)),\n",
    "#             nn.ReLU(),\n",
    "#         )\n",
    "        \n",
    "#         # self.upconv2 = nn.ConvTranspose3d(256, 256, kernel_size=(70, 134, 1))\n",
    "#         # self.decoder2 = nn.Sequential(\n",
    "#         #     nn.Conv3d(128+256, 128, kernel_size=(3, 3, 1)),\n",
    "#         #     nn.ReLU(),\n",
    "#         #     nn.Conv3d(128, 128, kernel_size=(3, 3, 1)),\n",
    "#         #     nn.ReLU(),\n",
    "#         # )\n",
    "\n",
    "#         # self.upconv1 = nn.ConvTranspose3d(128, 128, kernel_size=(136, 264, 1))\n",
    "#         # self.decoder2 = nn.Sequential(\n",
    "#         #     nn.Conv3d(64+128, 64, kernel_size=(3, 3, 1)),\n",
    "#         #     nn.ReLU(),\n",
    "#         #     nn.Conv3d(64, 64, kernel_size=(3, 3, 1)),\n",
    "#         #     nn.ReLU(),\n",
    "#         # )\n",
    "#         # self.final = nn.Conv3d(64, 50, kernel_size=(3, 3, 1))\n",
    "\n",
    "\n",
    "#         # self.remap = nn.Conv3d(in_channels=3, out_channels=8, kernel_size=2, stride=(2, 1, 1), padding=(0, 0, 128))\n",
    "#         # self.remapT = nn.ConvTranspose3d(in_channels=8, out_channels=3, kernel_size=(3, 2, 1), stride=(2, 1, 1), padding=(0, 0, 103))\n",
    "\n",
    "#         # self.maxpool = nn.MaxPool3d(kernel_size=2)\n",
    "\n",
    "#         # self.encoder1 = nn.Sequential(                                                              \n",
    "#         #     nn.Conv3d(in_channels=8, out_channels=16, kernel_size=2, stride=1, padding='same'), \n",
    "#         #     nn.LeakyReLU(0.1),\n",
    "#         #     nn.Conv3d(in_channels=16, out_channels=16, kernel_size=2, stride=1, padding='same'), \n",
    "#         #     nn.LeakyReLU(0.1),\n",
    "#         # )\n",
    "#         # self.encoder2 = nn.Sequential(\n",
    "#         #     nn.Conv3d(in_channels=16, out_channels=32, kernel_size=2, stride=1, padding='same'),\n",
    "#         #     nn.LeakyReLU(0.1), \n",
    "#         #     nn.Conv3d(in_channels=32, out_channels=32, kernel_size=2, stride=1, padding='same'),\n",
    "#         #     nn.LeakyReLU(0.1), \n",
    "#         # )\n",
    "#         # self.encoder3 = nn.Sequential(\n",
    "#         #     nn.Conv3d(in_channels=32, out_channels=64, kernel_size=2, stride=1, padding='same'),\n",
    "#         #     nn.LeakyReLU(0.1), \n",
    "#         #     nn.Conv3d(in_channels=64, out_channels=64, kernel_size=2, stride=1, padding='same'),\n",
    "#         #     nn.LeakyReLU(0.1), \n",
    "#         # )\n",
    "#         # self.encoder4 = nn.Sequential(\n",
    "#         #     nn.Conv3d(in_channels=64, out_channels=128, kernel_size=2, stride=1, padding='same'),\n",
    "#         #     nn.LeakyReLU(0.1),\n",
    "#         #     nn.Conv3d(in_channels=128, out_channels=128, kernel_size=2, stride=1, padding='same'),\n",
    "#         #     nn.LeakyReLU(0.1),\n",
    "#         # )\n",
    "#         # self.encoder5 = nn.Sequential(\n",
    "#         #     nn.Conv3d(in_channels=128, out_channels=1, kernel_size=2, stride=1, padding=1),\n",
    "#         #     nn.LeakyReLU(0.1), \n",
    "#         #     nn.Conv3d(in_channels=1, out_channels=1, kernel_size=2, stride=1, padding=1),\n",
    "#         #     nn.LeakyReLU(0.1), \n",
    "#         # )\n",
    "        \n",
    "#         # self.decoder5 = nn.Sequential(\n",
    "#         #     nn.ConvTranspose3d(in_channels=1, out_channels=128, kernel_size=2, stride=2, padding=0),     \n",
    "#         #     nn.LeakyReLU(0.1),\n",
    "#         # )\n",
    "\n",
    "#         # self.decoder = nn.Sequential(\n",
    "#         #     nn.ConvTranspose3d(in_channels=128, out_channels=64, kernel_size=2, stride=2, padding=0),    # (64, 32, 32, 32)\n",
    "#         #     nn.LeakyReLU(0.1),\n",
    "#         #     nn.ConvTranspose3d(in_channels=64, out_channels=32, kernel_size=2, stride=2, padding=0),     # (32, 64, 64, 64)\n",
    "#         #     nn.LeakyReLU(0.1),\n",
    "#         #     nn.ConvTranspose3d(in_channels=32, out_channels=16, kernel_size=2, stride=2, padding=0),     # (16, 128, 128, 128)\n",
    "#         #     nn.LeakyReLU(0.1),\n",
    "#         #     nn.ConvTranspose3d(in_channels=16, out_channels=8, kernel_size=2, stride=2, padding=0),      # (8, 256, 256, 256)\n",
    "#         #     nn.LeakyReLU(0.1),\n",
    "#         # )\n",
    "\n",
    "#     def forward(self, x):\n",
    "#         x1 = self.encoder1(x)\n",
    "#         x = self.maxpool(x1)\n",
    "#         x2 = self.encoder2(x)\n",
    "#         x = self.maxpool(x2)\n",
    "#         x3 = self.encoder3(x)\n",
    "#         x = self.maxpool(x3)\n",
    "#         x = self.encoder4(x)\n",
    "#         print(x3.shape)\n",
    "#         x = self.upconv(x)\n",
    "\n",
    "#         return x"
   ]
  },
  {
   "cell_type": "code",
   "execution_count": null,
   "metadata": {},
   "outputs": [],
   "source": [
    "class Unet(nn.Module):\n",
    "    def __init__(self):\n",
    "        super().__init__()\n",
    "        # self.upconv = nn.ConvTranspose3d(3, 3, kernel_size=(1, 1, 257))\n",
    "\n",
    "        self.maxpool = nn.MaxPool3d(kernel_size=(2, 2, 1))\n",
    "\n",
    "        self.encoder1 = nn.Sequential(\n",
    "            nn.Conv3d(1, 32, kernel_size=(3, 3, 1), padding=(1, 1, 0)),\n",
    "            nn.ReLU(),\n",
    "            nn.Conv3d(32, 64, kernel_size=(3, 3, 1), padding=(1, 1, 0)),\n",
    "            nn.ReLU(),\n",
    "        )\n",
    "\n",
    "        self.encoder2 = nn.Sequential(\n",
    "            nn.Conv3d(64, 64, kernel_size=(3, 3, 1), padding=(1, 1, 0)),\n",
    "            nn.ReLU(),\n",
    "            nn.Conv3d(64, 128, kernel_size=(3, 3, 1), padding=(1, 1, 0)),\n",
    "            nn.ReLU(),\n",
    "        )\n",
    "\n",
    "        self.encoder3 = nn.Sequential(\n",
    "            nn.Conv3d(128, 128, kernel_size=(3, 3, 1), padding=(1, 1, 0)),\n",
    "            nn.ReLU(),\n",
    "            nn.Conv3d(128, 256, kernel_size=(3, 3, 1), padding=(1, 1, 0)),\n",
    "            nn.ReLU(),\n",
    "        )\n",
    "\n",
    "        self.encoder4 = nn.Sequential(\n",
    "            nn.Conv3d(256, 256, kernel_size=(2, 2, 1), padding=(1, 1, 0)),\n",
    "            nn.ReLU(),\n",
    "            nn.Conv3d(256, 512, kernel_size=(3, 3, 1), padding=(1, 1, 0)),\n",
    "            nn.ReLU(),\n",
    "        )\n",
    "\n",
    "        self.upconv3 = nn.ConvTranspose3d(512, 512, kernel_size=(2, 2, 1), stride=(2, 2, 1), padding=(1, 1, 0))\n",
    "        self.decoder3 = nn.Sequential(\n",
    "            nn.Conv3d(256+512, 256, kernel_size=(3, 3, 1), padding=(1, 1, 0)),\n",
    "            nn.ReLU(),\n",
    "            nn.Conv3d(256, 256, kernel_size=(3, 3, 1), padding=(1, 1, 0)),\n",
    "            nn.ReLU(),\n",
    "        )\n",
    "        \n",
    "        self.upconv2 = nn.ConvTranspose3d(256, 256, kernel_size=(2, 2, 1), stride=(2, 2, 1))\n",
    "        self.decoder2 = nn.Sequential(\n",
    "            nn.Conv3d(128+256, 128, kernel_size=(3, 3, 1), padding=(1, 1, 0)),\n",
    "            nn.ReLU(),\n",
    "            nn.Conv3d(128, 128, kernel_size=(3, 3, 1), padding=(1, 1, 0)),\n",
    "            nn.ReLU(),\n",
    "        )\n",
    "\n",
    "        self.upconv1 = nn.ConvTranspose3d(128, 128, kernel_size=(3, 3, 1), stride=(2, 2, 1))\n",
    "        self.decoder1 = nn.Sequential(\n",
    "            nn.Conv3d(64+128, 64, kernel_size=(3, 3, 1), padding=(1, 1, 0)),\n",
    "            nn.ReLU(),\n",
    "            nn.Conv3d(64, 64, kernel_size=(3, 3, 1), padding=(1, 1, 0)),\n",
    "            nn.ReLU(),\n",
    "        )\n",
    "\n",
    "        self.final = nn.Conv3d(64, 50, kernel_size=(3, 3, 1), padding=(1, 1, 0))\n",
    "\n",
    "    def forward(self, x):\n",
    "        x1 = self.encoder1(x)\n",
    "        x = self.maxpool(x1)\n",
    "        x2 = self.encoder2(x)\n",
    "        x = self.maxpool(x2)\n",
    "        x3 = self.encoder3(x)\n",
    "        x = self.maxpool(x3)\n",
    "        x = self.encoder4(x)\n",
    "        x = self.upconv3(x)\n",
    "        x = torch.concatenate([x, x3], 1)\n",
    "        x = self.decoder3(x)\n",
    "        x = self.upconv2(x)\n",
    "        x = torch.concatenate([x, x2], 1)\n",
    "        x = self.decoder2(x)\n",
    "        x = self.upconv1(x)\n",
    "        x = torch.concatenate([x, x1], 1)\n",
    "        x = self.decoder1(x)\n",
    "\n",
    "        x = self.final(x)\n",
    "\n",
    "        return x"
   ]
  },
  {
   "cell_type": "code",
   "execution_count": null,
   "metadata": {},
   "outputs": [],
   "source": [
    "b = torch.rand([1, 1, 257, 513, 3]).to('cuda')"
   ]
  },
  {
   "cell_type": "code",
   "execution_count": null,
   "metadata": {},
   "outputs": [],
   "source": [
    "model = Unet().to('cuda')"
   ]
  },
  {
   "cell_type": "code",
   "execution_count": null,
   "metadata": {},
   "outputs": [
    {
     "data": {
      "text/plain": [
       "torch.Size([1, 50, 257, 513, 3])"
      ]
     },
     "execution_count": null,
     "metadata": {},
     "output_type": "execute_result"
    }
   ],
   "source": [
    "model(b).shape"
   ]
  },
  {
   "cell_type": "code",
   "execution_count": null,
   "metadata": {},
   "outputs": [],
   "source": []
  }
 ],
 "metadata": {
  "kernelspec": {
   "display_name": "python3",
   "language": "python",
   "name": "python3"
  }
 },
 "nbformat": 4,
 "nbformat_minor": 2
}
