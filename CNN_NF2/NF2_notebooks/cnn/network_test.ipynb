{
 "cells": [
  {
   "cell_type": "code",
   "execution_count": null,
   "metadata": {},
   "outputs": [],
   "source": [
    "import os \n",
    "os.environ['CUDA_VISIBLE_DEVICES'] = '3'"
   ]
  },
  {
   "cell_type": "code",
   "execution_count": null,
   "metadata": {},
   "outputs": [],
   "source": [
    "import torch\n",
    "from torch import nn"
   ]
  },
  {
   "cell_type": "code",
   "execution_count": null,
   "metadata": {},
   "outputs": [],
   "source": [
    "class zUnet(nn.Module):\n",
    "    def __init__(self):\n",
    "        super().__init__()\n",
    "        self.maxpool = nn.MaxPool3d(kernel_size=(2, 2, 1))\n",
    "        self.maxpool2 = nn.MaxPool3d(kernel_size=(2, 2, 2))\n",
    "\n",
    "        self.first = nn.Conv3d(1, 50, kernel_size=(3, 3, 1), padding=(1, 1, 0))\n",
    "\n",
    "        self.encoder1 = nn.Sequential(\n",
    "            nn.Conv3d(3, 16, kernel_size=(3, 3, 1), padding=(1, 1, 0)),\n",
    "            nn.ReLU(),\n",
    "            nn.Conv3d(16, 32, kernel_size=(3, 3, 1), padding=(1, 1, 0)),\n",
    "            nn.ReLU(),\n",
    "        )\n",
    "\n",
    "        self.encoder2 = nn.Sequential(\n",
    "            nn.Conv3d(32, 32, kernel_size=(3, 3, 1), padding=(1, 1, 0)),\n",
    "            nn.ReLU(),\n",
    "            nn.Conv3d(32, 64, kernel_size=(3, 3, 1), padding=(1, 1, 0)),\n",
    "            nn.ReLU(),\n",
    "        )\n",
    "\n",
    "        self.encoder3 = nn.Sequential(\n",
    "            nn.Conv3d(64, 64, kernel_size=(3, 3, 1), padding=(1, 1, 0)),\n",
    "            nn.ReLU(),\n",
    "            nn.Conv3d(64, 128, kernel_size=(3, 3, 1), padding=(1, 1, 0)),\n",
    "            nn.ReLU(),\n",
    "        )\n",
    "\n",
    "        self.encoder4 = nn.Sequential(\n",
    "            nn.Conv3d(128, 128, kernel_size=(2, 2, 1), padding=(1, 1, 0)),\n",
    "            nn.ReLU(),\n",
    "            nn.Conv3d(128, 256, kernel_size=(3, 3, 1), padding=(1, 1, 0)),\n",
    "            nn.ReLU(),\n",
    "        )\n",
    "\n",
    "        self.upconv3 = nn.ConvTranspose3d(256, 256, kernel_size=(2, 2, 1), stride=(2, 2, 1), padding=(1, 1, 0))\n",
    "        self.decoder3 = nn.Sequential(\n",
    "            nn.Conv3d(128+256, 128, kernel_size=(3, 3, 1), padding=(1, 1, 0)),\n",
    "            nn.ReLU(),\n",
    "            nn.Conv3d(128, 128, kernel_size=(3, 3, 1), padding=(1, 1, 0)),\n",
    "            nn.ReLU(),\n",
    "        )\n",
    "        \n",
    "        self.upconv2 = nn.ConvTranspose3d(128, 128, kernel_size=(2, 2, 3), stride=(2, 2, 2))\n",
    "        self.decoder2 = nn.Sequential(\n",
    "            nn.Conv3d(64+128, 64, kernel_size=(3, 3, 1), padding=(1, 1, 0)),\n",
    "            nn.ReLU(),\n",
    "            nn.Conv3d(64, 64, kernel_size=(3, 3, 1), padding=(1, 1, 0)),\n",
    "            nn.ReLU(),\n",
    "        )\n",
    "\n",
    "        self.upconv1 = nn.ConvTranspose3d(64, 64, kernel_size=(3, 3, 2), stride=(2, 2, 2))\n",
    "        self.decoder1 = nn.Sequential(\n",
    "            nn.Conv3d(32+64, 32, kernel_size=(3, 3, 1), padding=(1, 1, 0)),\n",
    "            nn.ReLU(),\n",
    "            nn.Conv3d(32, 32, kernel_size=(3, 3, 1), padding=(1, 1, 0)),\n",
    "            nn.ReLU(),\n",
    "        )\n",
    "\n",
    "        self.final = nn.Conv3d(32, 3, kernel_size=(3, 3, 1), padding=(1, 1, 0))\n",
    "\n",
    "    def forward(self, x):\n",
    "        x = torch.permute(x, (0, 4, 2, 3, 1))\n",
    "        x = self.first(x)\n",
    "        x = torch.permute(x, (0, 4, 2, 3, 1))\n",
    "        x1 = self.encoder1(x)\n",
    "        x = self.maxpool2(x1)\n",
    "        x2 = self.encoder2(x)\n",
    "        x = self.maxpool2(x2)\n",
    "        x3 = self.encoder3(x)\n",
    "        x = self.maxpool(x3)\n",
    "        x = self.encoder4(x)\n",
    "        x = self.upconv3(x)\n",
    "        x = torch.concatenate([x, x3], 1)\n",
    "        x = self.decoder3(x)\n",
    "        x = self.upconv2(x)\n",
    "        x = torch.concatenate([x, x2], 1)\n",
    "        x = self.decoder2(x)\n",
    "        x = self.upconv1(x)\n",
    "        x = torch.concatenate([x, x1], 1)\n",
    "        x = self.decoder1(x)\n",
    "\n",
    "        x = self.final(x)\n",
    "\n",
    "        return x"
   ]
  },
  {
   "cell_type": "code",
   "execution_count": null,
   "metadata": {},
   "outputs": [],
   "source": [
    "b = torch.rand([1, 3, 513, 257, 1]).to('cuda')"
   ]
  },
  {
   "cell_type": "code",
   "execution_count": null,
   "metadata": {},
   "outputs": [],
   "source": [
    "model = zUnet().to('cuda')"
   ]
  },
  {
   "cell_type": "code",
   "execution_count": null,
   "metadata": {},
   "outputs": [
    {
     "data": {
      "text/plain": [
       "torch.Size([1, 3, 513, 257, 50])"
      ]
     },
     "execution_count": null,
     "metadata": {},
     "output_type": "execute_result"
    }
   ],
   "source": [
    "model(b).shape"
   ]
  },
  {
   "cell_type": "code",
   "execution_count": null,
   "metadata": {},
   "outputs": [],
   "source": []
  },
  {
   "cell_type": "code",
   "execution_count": null,
   "metadata": {},
   "outputs": [],
   "source": []
  }
 ],
 "metadata": {
  "kernelspec": {
   "display_name": "python3",
   "language": "python",
   "name": "python3"
  }
 },
 "nbformat": 4,
 "nbformat_minor": 2
}
