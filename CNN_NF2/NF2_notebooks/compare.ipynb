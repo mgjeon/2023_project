{
 "cells": [
  {
   "cell_type": "markdown",
   "metadata": {},
   "source": [
    "# Models\n",
    "\n",
    "- b : AI-generated magnetic fields\n",
    "- B : reference magnetic fields\n",
    "\n",
    "### NF2 -> label : None; unsupervised learning\n",
    "- Input : coordinates calculated using bottom layer (single AR, not bottom layer)\n",
    "- Ouput : b\n",
    "- BC : bottom (given), lateral+top (None / potential field calculated from bottom layer)\n",
    "- Loss : |b - BC| + force-free + divergence\n",
    "\n",
    "### 3D U-net -> label : ISEE NLFFF; supervised learning\n",
    "- Input : bottom layer (multiple AR; batch)\n",
    "- Output : b\n",
    "- Loss : |b - label|\n",
    "\n",
    "### Physics-informed 3D U-net -> label: None; unsupervised learning\n",
    "- Input : bottom layer (multiple AR; batch)\n",
    "- Output : b\n",
    "- BC : bottom (given), lateral+top (None / potential field calculated from bottom layer)\n",
    "- Loss : |b-BC| + force-free + divergence"
   ]
  },
  {
   "cell_type": "markdown",
   "metadata": {},
   "source": [
    "# NLFFFs\n",
    "\n",
    "### Low-Lou semi-analytical magnetic fields\n",
    "\n",
    "### ISEE NLFFF\n",
    "\n",
    "### pynlfff\n",
    "\n",
    "### TD analytical field"
   ]
  },
  {
   "cell_type": "code",
   "execution_count": null,
   "metadata": {},
   "outputs": [],
   "source": []
  }
 ],
 "metadata": {
  "language_info": {
   "name": "python"
  }
 },
 "nbformat": 4,
 "nbformat_minor": 2
}
