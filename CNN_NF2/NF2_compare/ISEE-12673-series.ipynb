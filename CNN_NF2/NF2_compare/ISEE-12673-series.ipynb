{
 "cells": [
  {
   "cell_type": "code",
   "execution_count": null,
   "metadata": {},
   "outputs": [],
   "source": [
    "from tools.load import create_pair, nc_list"
   ]
  },
  {
   "cell_type": "code",
   "execution_count": null,
   "metadata": {},
   "outputs": [
    {
     "data": {
      "text/plain": [
       "78"
      ]
     },
     "execution_count": null,
     "metadata": {},
     "output_type": "execute_result"
    }
   ],
   "source": [
    "file_list = nc_list(\"/mnt/obsdata/isee_nlfff_v1.2/12673\")\n",
    "len(file_list[::5])"
   ]
  },
  {
   "cell_type": "code",
   "execution_count": null,
   "metadata": {},
   "outputs": [],
   "source": [
    "from tqdm import tqdm\n",
    "import numpy as np"
   ]
  },
  {
   "cell_type": "code",
   "execution_count": null,
   "metadata": {},
   "outputs": [],
   "source": [
    "b_norm = 2500"
   ]
  },
  {
   "cell_type": "code",
   "execution_count": null,
   "metadata": {},
   "outputs": [
    {
     "name": "stderr",
     "output_type": "stream",
     "text": [
      "100%|██████████| 78/78 [43:31<00:00, 33.47s/it]\n"
     ]
    }
   ],
   "source": [
    "inputs = []\n",
    "outputs = []\n",
    "outputs_pot = []\n",
    "for file in tqdm(file_list[::5]):\n",
    "    input_d, output_d, output_d_pot = create_pair(file, b_norm=b_norm)\n",
    "    inputs.append(input_d)\n",
    "    outputs.append(output_d)\n",
    "    outputs_pot.append(output_d_pot)\n",
    "\n",
    "inputs = np.array(inputs).astype(np.float32)\n",
    "outputs = np.array(outputs).astype(np.float32)\n",
    "outputs_pot = np.array(outputs_pot).astype(np.float32)\n",
    "\n",
    "np.save('data/inputs_12673_series.npy', inputs)\n",
    "np.save('data/outputs_12673_series.npy', outputs)\n",
    "np.save('data/outputs_pot_12673_series.npy', outputs_pot)\n",
    "\n",
    "# inputs = np.load('data/inputs_12673_series.npy')\n",
    "# outputs = np.load('data/outputs_12673_series.npy')\n",
    "# outputs_pot = np.load('data/outputs_pot_12673_series.npy')"
   ]
  },
  {
   "cell_type": "code",
   "execution_count": null,
   "metadata": {},
   "outputs": [],
   "source": [
    "outputs.shape"
   ]
  }
 ],
 "metadata": {
  "kernelspec": {
   "display_name": "python3",
   "language": "python",
   "name": "python3"
  }
 },
 "nbformat": 4,
 "nbformat_minor": 2
}
