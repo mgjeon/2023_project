{
 "cells": [
  {
   "cell_type": "code",
   "execution_count": null,
   "metadata": {},
   "outputs": [],
   "source": [
    "from tools.load import create_pair, nc_list"
   ]
  },
  {
   "cell_type": "code",
   "execution_count": null,
   "metadata": {},
   "outputs": [
    {
     "data": {
      "text/plain": [
       "66"
      ]
     },
     "execution_count": null,
     "metadata": {},
     "output_type": "execute_result"
    }
   ],
   "source": [
    "file_list = nc_list(\"/mnt/obsdata/isee_nlfff_v1.2/11158\")\n",
    "len(file_list)"
   ]
  },
  {
   "cell_type": "code",
   "execution_count": null,
   "metadata": {},
   "outputs": [],
   "source": [
    "from tqdm import tqdm\n",
    "import numpy as np"
   ]
  },
  {
   "cell_type": "code",
   "execution_count": null,
   "metadata": {},
   "outputs": [],
   "source": [
    "b_norm = 2500"
   ]
  },
  {
   "cell_type": "code",
   "execution_count": null,
   "metadata": {},
   "outputs": [],
   "source": [
    "# inputs = []\n",
    "# outputs = []\n",
    "# outputs_pot = []\n",
    "# for file in tqdm(file_list):\n",
    "#     input_d, output_d, output_d_pot = create_pair(file, b_norm=b_norm)\n",
    "#     inputs.append(input_d)\n",
    "#     outputs.append(output_d)\n",
    "#     outputs_pot.append(output_d_pot)\n",
    "\n",
    "# inputs = np.array(inputs).astype(np.float32)\n",
    "# outputs = np.array(outputs).astype(np.float32)\n",
    "# outputs_pot = np.array(outputs_pot).astype(np.float32)\n",
    "\n",
    "# np.save('data/inputs_11158.npy', inputs)\n",
    "# np.save('data/outputs_11158.npy', outputs)\n",
    "# np.save('data/outputs_pot_11158.npy', outputs_pot)\n",
    "\n",
    "inputs = np.load('data/inputs_11158.npy')\n",
    "outputs = np.load('data/outputs_11158.npy')\n",
    "outputs_pot = np.load('data/outputs_pot_11158.npy')"
   ]
  },
  {
   "cell_type": "code",
   "execution_count": null,
   "metadata": {},
   "outputs": [
    {
     "data": {
      "text/plain": [
       "(66, 3, 513, 257, 1)"
      ]
     },
     "execution_count": null,
     "metadata": {},
     "output_type": "execute_result"
    }
   ],
   "source": [
    "inputs.shape"
   ]
  },
  {
   "cell_type": "code",
   "execution_count": null,
   "metadata": {},
   "outputs": [],
   "source": [
    "nf2_input = inputs.transpose(0, 2, 3, 4, 1)"
   ]
  },
  {
   "cell_type": "code",
   "execution_count": null,
   "metadata": {},
   "outputs": [
    {
     "data": {
      "text/plain": [
       "(66, 513, 257, 1, 3)"
      ]
     },
     "execution_count": null,
     "metadata": {},
     "output_type": "execute_result"
    }
   ],
   "source": [
    "nf2_input.shape"
   ]
  },
  {
   "cell_type": "code",
   "execution_count": null,
   "metadata": {},
   "outputs": [],
   "source": [
    "for i in range(nf2_input.shape[0]):\n",
    "    np.save(f'data/11158_nf2_input/input_{i}', nf2_input[i]*b_norm)"
   ]
  },
  {
   "cell_type": "code",
   "execution_count": null,
   "metadata": {},
   "outputs": [],
   "source": []
  }
 ],
 "metadata": {
  "kernelspec": {
   "display_name": "python3",
   "language": "python",
   "name": "python3"
  }
 },
 "nbformat": 4,
 "nbformat_minor": 2
}
