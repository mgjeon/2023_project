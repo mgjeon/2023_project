{
 "cells": [
  {
   "cell_type": "code",
   "execution_count": 1,
   "metadata": {},
   "outputs": [],
   "source": [
    "from tools.load import create_pair, nc_list"
   ]
  },
  {
   "cell_type": "code",
   "execution_count": 8,
   "metadata": {},
   "outputs": [
    {
     "data": {
      "text/plain": [
       "78"
      ]
     },
     "execution_count": 8,
     "metadata": {},
     "output_type": "execute_result"
    }
   ],
   "source": [
    "file_list = nc_list(\"/mnt/obsdata/isee_nlfff_v1.2/12673\")\n",
    "len(file_list[::5])"
   ]
  },
  {
   "cell_type": "code",
   "execution_count": 9,
   "metadata": {},
   "outputs": [],
   "source": [
    "from tqdm import tqdm\n",
    "import numpy as np"
   ]
  },
  {
   "cell_type": "code",
   "execution_count": 10,
   "metadata": {},
   "outputs": [],
   "source": [
    "b_norm = 2500"
   ]
  },
  {
   "cell_type": "code",
   "execution_count": 11,
   "metadata": {},
   "outputs": [
    {
     "name": "stderr",
     "output_type": "stream",
     "text": [
      "  0%|          | 0/389 [00:19<?, ?it/s]\n"
     ]
    },
    {
     "ename": "KeyboardInterrupt",
     "evalue": "",
     "output_type": "error",
     "traceback": [
      "\u001b[0;31m---------------------------------------------------------------------------\u001b[0m",
      "\u001b[0;31mKeyboardInterrupt\u001b[0m                         Traceback (most recent call last)",
      "\u001b[1;32m/userhome/jeon_mg/workspace/project/NF2_compare/ISEE-12673-series.ipynb Cell 5\u001b[0m line \u001b[0;36m5\n\u001b[1;32m      <a href='vscode-notebook-cell://ssh-remote%2Bgpuserver_38/userhome/jeon_mg/workspace/project/NF2_compare/ISEE-12673-series.ipynb#W4sdnNjb2RlLXJlbW90ZQ%3D%3D?line=2'>3</a>\u001b[0m outputs_pot \u001b[39m=\u001b[39m []\n\u001b[1;32m      <a href='vscode-notebook-cell://ssh-remote%2Bgpuserver_38/userhome/jeon_mg/workspace/project/NF2_compare/ISEE-12673-series.ipynb#W4sdnNjb2RlLXJlbW90ZQ%3D%3D?line=3'>4</a>\u001b[0m \u001b[39mfor\u001b[39;00m file \u001b[39min\u001b[39;00m tqdm(file_list):\n\u001b[0;32m----> <a href='vscode-notebook-cell://ssh-remote%2Bgpuserver_38/userhome/jeon_mg/workspace/project/NF2_compare/ISEE-12673-series.ipynb#W4sdnNjb2RlLXJlbW90ZQ%3D%3D?line=4'>5</a>\u001b[0m     input_d, output_d, output_d_pot \u001b[39m=\u001b[39m create_pair(file, b_norm\u001b[39m=\u001b[39;49mb_norm)\n\u001b[1;32m      <a href='vscode-notebook-cell://ssh-remote%2Bgpuserver_38/userhome/jeon_mg/workspace/project/NF2_compare/ISEE-12673-series.ipynb#W4sdnNjb2RlLXJlbW90ZQ%3D%3D?line=5'>6</a>\u001b[0m     inputs\u001b[39m.\u001b[39mappend(input_d)\n\u001b[1;32m      <a href='vscode-notebook-cell://ssh-remote%2Bgpuserver_38/userhome/jeon_mg/workspace/project/NF2_compare/ISEE-12673-series.ipynb#W4sdnNjb2RlLXJlbW90ZQ%3D%3D?line=6'>7</a>\u001b[0m     outputs\u001b[39m.\u001b[39mappend(output_d)\n",
      "File \u001b[0;32m~/workspace/project/NF2_compare/tools/load.py:34\u001b[0m, in \u001b[0;36mcreate_pair\u001b[0;34m(nc_file, b_norm)\u001b[0m\n\u001b[1;32m     33\u001b[0m \u001b[39mdef\u001b[39;00m \u001b[39mcreate_pair\u001b[39m(nc_file, b_norm\u001b[39m=\u001b[39m\u001b[39m2500\u001b[39m):\n\u001b[0;32m---> 34\u001b[0m     b, bp \u001b[39m=\u001b[39m load_b(nc_file)\n\u001b[1;32m     36\u001b[0m     input_data \u001b[39m=\u001b[39m b[:, :, :, \u001b[39m0\u001b[39m]\n\u001b[1;32m     37\u001b[0m     input_data \u001b[39m=\u001b[39m input_data[:, :, :, \u001b[39mNone\u001b[39;00m] \u001b[39m/\u001b[39m b_norm\n",
      "File \u001b[0;32m~/workspace/project/NF2_compare/tools/load.py:19\u001b[0m, in \u001b[0;36mload_b\u001b[0;34m(nc_file)\u001b[0m\n\u001b[1;32m     17\u001b[0m bx\u001b[39m=\u001b[39mnc_bx[:]\u001b[39m.\u001b[39mtranspose(\u001b[39m2\u001b[39m,\u001b[39m1\u001b[39m,\u001b[39m0\u001b[39m)\n\u001b[1;32m     18\u001b[0m nc_by\u001b[39m=\u001b[39mnc\u001b[39m.\u001b[39mvariables[\u001b[39m'\u001b[39m\u001b[39mBy_pot\u001b[39m\u001b[39m'\u001b[39m]\n\u001b[0;32m---> 19\u001b[0m by\u001b[39m=\u001b[39mnc_by[:]\u001b[39m.\u001b[39mtranspose(\u001b[39m2\u001b[39m,\u001b[39m1\u001b[39m,\u001b[39m0\u001b[39m)\n\u001b[1;32m     20\u001b[0m nc_bz\u001b[39m=\u001b[39mnc\u001b[39m.\u001b[39mvariables[\u001b[39m'\u001b[39m\u001b[39mBz_pot\u001b[39m\u001b[39m'\u001b[39m]\n\u001b[1;32m     21\u001b[0m bz\u001b[39m=\u001b[39mnc_bz[:]\u001b[39m.\u001b[39mtranspose(\u001b[39m2\u001b[39m,\u001b[39m1\u001b[39m,\u001b[39m0\u001b[39m)\n",
      "File \u001b[0;32msrc/netCDF4/_netCDF4.pyx:4997\u001b[0m, in \u001b[0;36mnetCDF4._netCDF4.Variable.__getitem__\u001b[0;34m()\u001b[0m\n",
      "File \u001b[0;32msrc/netCDF4/_netCDF4.pyx:5145\u001b[0m, in \u001b[0;36mnetCDF4._netCDF4.Variable._toma\u001b[0;34m()\u001b[0m\n",
      "File \u001b[0;32m~/miniforge3/envs/pinn_torch/lib/python3.10/site-packages/numpy/core/_methods.py:55\u001b[0m, in \u001b[0;36m_any\u001b[0;34m(a, axis, dtype, out, keepdims, where)\u001b[0m\n\u001b[1;32m     51\u001b[0m \u001b[39mdef\u001b[39;00m \u001b[39m_prod\u001b[39m(a, axis\u001b[39m=\u001b[39m\u001b[39mNone\u001b[39;00m, dtype\u001b[39m=\u001b[39m\u001b[39mNone\u001b[39;00m, out\u001b[39m=\u001b[39m\u001b[39mNone\u001b[39;00m, keepdims\u001b[39m=\u001b[39m\u001b[39mFalse\u001b[39;00m,\n\u001b[1;32m     52\u001b[0m           initial\u001b[39m=\u001b[39m_NoValue, where\u001b[39m=\u001b[39m\u001b[39mTrue\u001b[39;00m):\n\u001b[1;32m     53\u001b[0m     \u001b[39mreturn\u001b[39;00m umr_prod(a, axis, dtype, out, keepdims, initial, where)\n\u001b[0;32m---> 55\u001b[0m \u001b[39mdef\u001b[39;00m \u001b[39m_any\u001b[39m(a, axis\u001b[39m=\u001b[39m\u001b[39mNone\u001b[39;00m, dtype\u001b[39m=\u001b[39m\u001b[39mNone\u001b[39;00m, out\u001b[39m=\u001b[39m\u001b[39mNone\u001b[39;00m, keepdims\u001b[39m=\u001b[39m\u001b[39mFalse\u001b[39;00m, \u001b[39m*\u001b[39m, where\u001b[39m=\u001b[39m\u001b[39mTrue\u001b[39;00m):\n\u001b[1;32m     56\u001b[0m     \u001b[39m# Parsing keyword arguments is currently fairly slow, so avoid it for now\u001b[39;00m\n\u001b[1;32m     57\u001b[0m     \u001b[39mif\u001b[39;00m where \u001b[39mis\u001b[39;00m \u001b[39mTrue\u001b[39;00m:\n\u001b[1;32m     58\u001b[0m         \u001b[39mreturn\u001b[39;00m umr_any(a, axis, dtype, out, keepdims)\n",
      "\u001b[0;31mKeyboardInterrupt\u001b[0m: "
     ]
    }
   ],
   "source": [
    "inputs = []\n",
    "outputs = []\n",
    "outputs_pot = []\n",
    "for file in tqdm(file_list[::5]):\n",
    "    input_d, output_d, output_d_pot = create_pair(file, b_norm=b_norm)\n",
    "    inputs.append(input_d)\n",
    "    outputs.append(output_d)\n",
    "    outputs_pot.append(output_d_pot)\n",
    "\n",
    "inputs = np.array(inputs).astype(np.float32)\n",
    "outputs = np.array(outputs).astype(np.float32)\n",
    "outputs_pot = np.array(outputs_pot).astype(np.float32)\n",
    "\n",
    "np.save('data/inputs_12673_seires.npy', inputs)\n",
    "np.save('data/outputs_12673_seires.npy', outputs)\n",
    "np.save('data/outputs_pot_12673_seires.npy', outputs_pot)\n",
    "\n",
    "# inputs = np.load('data/inputs_12673_seires.npy')\n",
    "# outputs = np.load('data/outputs_12673_seires.npy')\n",
    "# outputs_pot = np.load('data/outputs_pot_12673_seires.npy')"
   ]
  },
  {
   "cell_type": "code",
   "execution_count": null,
   "metadata": {},
   "outputs": [],
   "source": [
    "outputs.shape"
   ]
  }
 ],
 "metadata": {
  "kernelspec": {
   "display_name": "pinn_torch",
   "language": "python",
   "name": "python3"
  },
  "language_info": {
   "codemirror_mode": {
    "name": "ipython",
    "version": 3
   },
   "file_extension": ".py",
   "mimetype": "text/x-python",
   "name": "python",
   "nbconvert_exporter": "python",
   "pygments_lexer": "ipython3",
   "version": "3.10.12"
  }
 },
 "nbformat": 4,
 "nbformat_minor": 2
}
