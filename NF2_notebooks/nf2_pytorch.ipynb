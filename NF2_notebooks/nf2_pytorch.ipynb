{
 "cells": [
  {
   "cell_type": "code",
   "execution_count": 14,
   "id": "6b8f4f9b-31ff-40b6-9758-8b8694aa6d4f",
   "metadata": {},
   "outputs": [],
   "source": [
    "import os\n",
    "os.environ['CUDA_VISIBLE_DEVICES'] = '2'"
   ]
  },
  {
   "cell_type": "code",
   "execution_count": 15,
   "id": "90a69681-9844-425a-acd7-15da75b02cd7",
   "metadata": {},
   "outputs": [],
   "source": [
    "import numpy as np\n",
    "import matplotlib.pyplot as plt"
   ]
  },
  {
   "cell_type": "code",
   "execution_count": 23,
   "id": "4935ba20-044d-42dd-8c23-f59f0cc1cf9c",
   "metadata": {},
   "outputs": [],
   "source": [
    "import torch\n",
    "from torch.utils.data import Dataset"
   ]
  },
  {
   "cell_type": "code",
   "execution_count": 24,
   "id": "d57a9d81-f608-4f0a-9933-3d276fe71531",
   "metadata": {},
   "outputs": [],
   "source": [
    "class BatchesDataset(Dataset):\n",
    "    def __init__(self, batches_file_paths, batch_size):\n",
    "        self.batches_file_paths = batches_file_paths\n",
    "        self.batch_size = batch_size\n",
    "\n",
    "    def __len__(self):\n",
    "        return np.ceil(np.load(list(self.batches_file_paths.values())[0], mmap_mode='r').shape[0] / self.batch_size).astype(np.int32)\n",
    "\n",
    "    def __getitem__(self, idx):\n",
    "        data = {k: np.copy(np.load(bf, mmap_mode='r')[idx * self.batch_size: (idx + 1) * self.batch_size])\n",
    "                for k, bf in self.batches_file_paths.items()}\n",
    "        return data"
   ]
  },
  {
   "cell_type": "code",
   "execution_count": 25,
   "id": "5074386f-2950-47f0-8ad6-b78d9b7368dc",
   "metadata": {},
   "outputs": [],
   "source": [
    "class RandomCoordinateDataset(Dataset):\n",
    "    def __init__(self, cube_shape, spatial_norm, batch_size, buffer=None):\n",
    "        super().__init__()\n",
    "        cube_shape = np.array([[0, cube_shape[0] - 1], [0, cube_shape[1] - 1], [0, cube_shape[2] - 1]])\n",
    "        if buffer:\n",
    "            buffer_x = (cube_shape[0, 1] - cube_shape[0, 0]) * buffer\n",
    "            buffer_y = (cube_shape[1, 1] - cube_shape[1, 0]) * buffer\n",
    "            cube_shape[0, 0] -= buffer_x\n",
    "            cube_shape[0, 1] += buffer_x\n",
    "            cube_shape[1, 0] -= buffer_y\n",
    "            cube_shape[1, 1] += buffer_y\n",
    "        self.cube_shape = cube_shape\n",
    "        self.spatial_norm = spatial_norm\n",
    "        self.batch_size = batch_size\n",
    "        self.float_tensor = torch.FloatTensor\n",
    "\n",
    "    def __len__(self):\n",
    "        return 1\n",
    "\n",
    "    def __getitem__(self, item):\n",
    "        random_coords = self.float_tensor(self.batch_size, 3).uniform_()\n",
    "        random_coords[:, 0] = (random_coords[:, 0] * (self.cube_shape[0, 1] - self.cube_shape[0, 0]) + self.cube_shape[0, 0])\n",
    "        random_coords[:, 1] = (random_coords[:, 1] * (self.cube_shape[1, 1] - self.cube_shape[1, 0]) + self.cube_shape[1, 0])\n",
    "        random_coords[:, 2] = (random_coords[:, 2] * (self.cube_shape[2, 1] - self.cube_shape[2, 0]) + self.cube_shape[2, 0])\n",
    "        random_coords /= self.spatial_norm\n",
    "        return random_coords"
   ]
  },
  {
   "cell_type": "code",
   "execution_count": 26,
   "id": "4aca6758-9d65-4f97-9dab-acaef2eed3c8",
   "metadata": {},
   "outputs": [],
   "source": [
    "batches_path = {'coords': 'coords.npy',\n",
    "                'values': 'values.npy'}\n",
    "boundary_batch_size = 10000\n",
    "\n",
    "cube_shape = [513, 257, 257]\n",
    "spatial_norm = 320\n",
    "random_batch_size = 20000\n",
    "buffer=None"
   ]
  },
  {
   "cell_type": "code",
   "execution_count": 27,
   "id": "05e77a89-e298-4891-8add-0024d7f1e130",
   "metadata": {},
   "outputs": [],
   "source": [
    "dataset = BatchesDataset(batches_path, boundary_batch_size)\n",
    "random_dataset = RandomCoordinateDataset(cube_shape, spatial_norm, random_batch_size, buffer=buffer)"
   ]
  },
  {
   "cell_type": "code",
   "execution_count": 29,
   "id": "f8815f5d-b30d-41a3-bcda-fd6fd462a766",
   "metadata": {},
   "outputs": [
    {
     "data": {
      "text/plain": [
       "{'coords': array([[  0.,   0.,   0.],\n",
       "        [  0.,   1.,   0.],\n",
       "        [  0.,   2.,   0.],\n",
       "        ...,\n",
       "        [ 38., 231.,   0.],\n",
       "        [ 38., 232.,   0.],\n",
       "        [ 38., 233.,   0.]], dtype=float32),\n",
       " 'values': array([[ 27.81,  48.85, -13.17],\n",
       "        [ -1.57, -78.04,  33.92],\n",
       "        [-25.44,  96.69, -57.32],\n",
       "        ...,\n",
       "        [ 92.06,  20.57,  46.14],\n",
       "        [  0.78, -76.94,  19.8 ],\n",
       "        [-40.19, -61.35,  -7.04]], dtype=float32)}"
      ]
     },
     "execution_count": 29,
     "metadata": {},
     "output_type": "execute_result"
    }
   ],
   "source": [
    "dataset[0]"
   ]
  },
  {
   "cell_type": "code",
   "execution_count": 30,
   "id": "7b018a01-d20c-494b-b9ec-6f0cbba93fc7",
   "metadata": {},
   "outputs": [
    {
     "data": {
      "text/plain": [
       "tensor([[0.6744, 0.3834, 0.5365],\n",
       "        [0.0892, 0.4419, 0.7103],\n",
       "        [1.4901, 0.5261, 0.7151],\n",
       "        ...,\n",
       "        [0.7834, 0.3754, 0.5140],\n",
       "        [0.3527, 0.2094, 0.6267],\n",
       "        [0.7048, 0.7431, 0.1538]])"
      ]
     },
     "execution_count": 30,
     "metadata": {},
     "output_type": "execute_result"
    }
   ],
   "source": [
    "random_dataset[0]"
   ]
  },
  {
   "cell_type": "code",
   "execution_count": 31,
   "id": "e73eec48-5749-4138-ac0d-d9d02ecbc782",
   "metadata": {},
   "outputs": [],
   "source": [
    "from torch.utils.data import DataLoader, RandomSampler"
   ]
  },
  {
   "cell_type": "code",
   "execution_count": 32,
   "id": "9d974602-5798-4cb1-a481-7643933cbabd",
   "metadata": {},
   "outputs": [],
   "source": [
    "iterations = 10000"
   ]
  },
  {
   "cell_type": "code",
   "execution_count": 33,
   "id": "df2867f0-fa81-4b47-824b-6aa3180e1736",
   "metadata": {},
   "outputs": [],
   "source": [
    "data_loader = DataLoader(dataset, batch_size=None, num_workers=8, pin_memory=True,\n",
    "                         sampler=RandomSampler(dataset, replacement=True, num_samples=iterations))\n",
    "random_loader = DataLoader(random_dataset, batch_size=None, num_workers=8, pin_memory=True,\n",
    "                           sampler=RandomSampler(dataset, replacement=True, num_samples=iterations))"
   ]
  },
  {
   "cell_type": "code",
   "execution_count": 40,
   "id": "15a23b36-e981-4df8-b807-7b2af1e52a8a",
   "metadata": {},
   "outputs": [
    {
     "data": {
      "text/plain": [
       "{'coords': tensor([[311.,  73.,   0.],\n",
       "         [311.,  74.,   0.],\n",
       "         [311.,  75.,   0.],\n",
       "         ...,\n",
       "         [350.,  47.,   0.],\n",
       "         [350.,  48.,   0.],\n",
       "         [350.,  49.,   0.]]),\n",
       " 'values': tensor([[ 393.0100, -579.0800,  402.1200],\n",
       "         [ 468.9400, -517.9100,  375.7600],\n",
       "         [ 528.1800, -517.6700,  252.9300],\n",
       "         ...,\n",
       "         [ -58.9500, -115.0400,   -7.7000],\n",
       "         [  38.3600,   94.1800,   -8.7200],\n",
       "         [  43.9000,  115.1900,  -17.6400]])}"
      ]
     },
     "execution_count": 40,
     "metadata": {},
     "output_type": "execute_result"
    }
   ],
   "source": [
    "next(iter(data_loader))"
   ]
  },
  {
   "cell_type": "code",
   "execution_count": 41,
   "id": "84e60fe1-08e1-47dc-a163-a8172b18bcca",
   "metadata": {},
   "outputs": [
    {
     "data": {
      "text/plain": [
       "tensor([[0.3767, 0.5381, 0.3489],\n",
       "        [0.7747, 0.1157, 0.5143],\n",
       "        [0.2035, 0.3301, 0.2012],\n",
       "        ...,\n",
       "        [0.8248, 0.5338, 0.4677],\n",
       "        [0.7827, 0.4453, 0.7107],\n",
       "        [0.0829, 0.1674, 0.7622]])"
      ]
     },
     "execution_count": 41,
     "metadata": {},
     "output_type": "execute_result"
    }
   ],
   "source": [
    "next(iter(random_loader))"
   ]
  },
  {
   "cell_type": "code",
   "execution_count": 42,
   "id": "9b575fc5-52dc-4264-84e3-65653c88ce94",
   "metadata": {},
   "outputs": [],
   "source": [
    "from torch import nn"
   ]
  },
  {
   "cell_type": "code",
   "execution_count": 43,
   "id": "3f00385e-c088-4a2f-a38a-2a4a1777deb8",
   "metadata": {},
   "outputs": [],
   "source": [
    "class Sine(nn.Module):\n",
    "    def __init__(self, w0=1.):\n",
    "        super().__init__()\n",
    "        self.w0 = w0\n",
    "\n",
    "    def forward(self, x):\n",
    "        return torch.sin(self.w0 * x)\n",
    "\n",
    "class BModel(nn.Module):\n",
    "\n",
    "    def __init__(self, in_coords, out_values, dim, pos_encoding=False):\n",
    "        super().__init__()\n",
    "        if pos_encoding:\n",
    "            posenc = PositionalEncoding(8, 20)\n",
    "            d_in = nn.Linear(in_coords * 40, dim)\n",
    "            self.d_in = nn.Sequential(posenc, d_in)\n",
    "        else:\n",
    "            self.d_in = nn.Linear(in_coords, dim)\n",
    "        lin = [nn.Linear(dim, dim) for _ in range(8)]\n",
    "        self.linear_layers = nn.ModuleList(lin)\n",
    "        self.d_out = nn.Linear(dim, out_values)\n",
    "        self.activation = Sine()  # torch.tanh\n",
    "\n",
    "    def forward(self, x):\n",
    "        x = self.activation(self.d_in(x))\n",
    "        for l in self.linear_layers:\n",
    "            x = self.activation(l(x))\n",
    "        x = self.d_out(x)\n",
    "        return x"
   ]
  },
  {
   "cell_type": "code",
   "execution_count": 44,
   "id": "39820e6f-0a0a-43e5-933a-1a68e9af55dc",
   "metadata": {},
   "outputs": [],
   "source": [
    "dim = 256\n",
    "model = BModel(3, 3, dim)"
   ]
  },
  {
   "cell_type": "code",
   "execution_count": null,
   "id": "87ae74cb-a809-4fa5-8af8-c9278f26b67a",
   "metadata": {},
   "outputs": [],
   "source": []
  }
 ],
 "metadata": {
  "kernelspec": {
   "display_name": "Python 3 (ipykernel)",
   "language": "python",
   "name": "python3"
  },
  "language_info": {
   "codemirror_mode": {
    "name": "ipython",
    "version": 3
   },
   "file_extension": ".py",
   "mimetype": "text/x-python",
   "name": "python",
   "nbconvert_exporter": "python",
   "pygments_lexer": "ipython3",
   "version": "3.10.12"
  }
 },
 "nbformat": 4,
 "nbformat_minor": 5
}
