{
 "cells": [
  {
   "cell_type": "code",
   "execution_count": 2,
   "metadata": {},
   "outputs": [],
   "source": [
    "from tool.model import net\n",
    "from tool.load import *\n",
    "from tool.evaluate import *\n",
    "from tool.dataset import *"
   ]
  },
  {
   "cell_type": "code",
   "execution_count": 3,
   "metadata": {},
   "outputs": [
    {
     "data": {
      "text/plain": [
       "[PosixPath('/mnt/obsdata/isee_nlfff_v1.2/12673/12673_20170904_000000.nc'),\n",
       " PosixPath('/mnt/obsdata/isee_nlfff_v1.2/12673/12673_20170904_104800.nc'),\n",
       " PosixPath('/mnt/obsdata/isee_nlfff_v1.2/12673/12673_20170904_184800.nc'),\n",
       " PosixPath('/mnt/obsdata/isee_nlfff_v1.2/12673/12673_20170905_030000.nc'),\n",
       " PosixPath('/mnt/obsdata/isee_nlfff_v1.2/12673/12673_20170905_132400.nc'),\n",
       " PosixPath('/mnt/obsdata/isee_nlfff_v1.2/12673/12673_20170905_212400.nc'),\n",
       " PosixPath('/mnt/obsdata/isee_nlfff_v1.2/12673/12673_20170906_084800.nc'),\n",
       " PosixPath('/mnt/obsdata/isee_nlfff_v1.2/12673/12673_20170906_164800.nc'),\n",
       " PosixPath('/mnt/obsdata/isee_nlfff_v1.2/12673/12673_20170907_011200.nc'),\n",
       " PosixPath('/mnt/obsdata/isee_nlfff_v1.2/12673/12673_20170907_111200.nc')]"
      ]
     },
     "execution_count": 3,
     "metadata": {},
     "output_type": "execute_result"
    }
   ],
   "source": [
    "file_list = nc_list(\"/mnt/obsdata/isee_nlfff_v1.2/12673\")\n",
    "file_list[::40]"
   ]
  },
  {
   "cell_type": "code",
   "execution_count": 4,
   "metadata": {},
   "outputs": [
    {
     "data": {
      "text/plain": [
       "[PosixPath('/mnt/obsdata/isee_nlfff_v1.2/11158/11158_20110213_120000.nc'),\n",
       " PosixPath('/mnt/obsdata/isee_nlfff_v1.2/11158/11158_20110214_234800.nc')]"
      ]
     },
     "execution_count": 4,
     "metadata": {},
     "output_type": "execute_result"
    }
   ],
   "source": [
    "file_list = nc_list(\"/mnt/obsdata/isee_nlfff_v1.2/11158\")\n",
    "file_list[::40]"
   ]
  },
  {
   "cell_type": "code",
   "execution_count": null,
   "metadata": {},
   "outputs": [],
   "source": [
    "from tqdm import tqdm\n",
    "\n",
    "inputs_test = []\n",
    "outputs_test = []\n",
    "for file in tqdm(file_list[::40]):\n",
    "    input_p, output_p = create_pair(file)\n",
    "    inputs_test.append(input_p)\n",
    "    outputs_test.append(output_p)\n",
    "\n",
    "inputs_test = np.array(inputs_test).astype(np.float32)\n",
    "outputs_test = np.array(outputs_test).astype(np.float32)\n",
    "\n",
    "np.save('inputs_test.npy', inputs_test)\n",
    "np.save('outputs_test.npy', outputs_test)"
   ]
  },
  {
   "cell_type": "code",
   "execution_count": null,
   "metadata": {},
   "outputs": [],
   "source": [
    "file_list[239]"
   ]
  },
  {
   "cell_type": "code",
   "execution_count": 12,
   "metadata": {},
   "outputs": [],
   "source": [
    "input_p, output_p = create_pair(file_list[239])\n",
    "\n",
    "np.save('12673_20170906_083600_input.npy', input_p)\n",
    "np.save('12673_20170906_083600_output.npy', output_p)"
   ]
  },
  {
   "cell_type": "code",
   "execution_count": null,
   "metadata": {},
   "outputs": [],
   "source": []
  }
 ],
 "metadata": {
  "kernelspec": {
   "display_name": "pinn_torch",
   "language": "python",
   "name": "python3"
  },
  "language_info": {
   "codemirror_mode": {
    "name": "ipython",
    "version": 3
   },
   "file_extension": ".py",
   "mimetype": "text/x-python",
   "name": "python",
   "nbconvert_exporter": "python",
   "pygments_lexer": "ipython3",
   "version": "3.10.12"
  }
 },
 "nbformat": 4,
 "nbformat_minor": 2
}
