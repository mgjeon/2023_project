{
 "cells": [
  {
   "cell_type": "code",
   "execution_count": 1,
   "metadata": {},
   "outputs": [
    {
     "name": "stderr",
     "output_type": "stream",
     "text": [
      "100%|██████████| 2/2 [00:24<00:00, 12.18s/it]\n"
     ]
    }
   ],
   "source": [
    "from tool.model import net\n",
    "from tool.load import *\n",
    "from tool.evaluate import *\n",
    "from tool.dataset import *\n",
    "\n",
    "file_list = nc_list(\"/mnt/obsdata/isee_nlfff_v1.2/11158\")"
   ]
  },
  {
   "cell_type": "code",
   "execution_count": 4,
   "metadata": {},
   "outputs": [
    {
     "data": {
      "text/plain": [
       "[PosixPath('/mnt/obsdata/isee_nlfff_v1.2/11158/11158_20110213_120000.nc'),\n",
       " PosixPath('/mnt/obsdata/isee_nlfff_v1.2/11158/11158_20110213_130000.nc'),\n",
       " PosixPath('/mnt/obsdata/isee_nlfff_v1.2/11158/11158_20110213_140000.nc'),\n",
       " PosixPath('/mnt/obsdata/isee_nlfff_v1.2/11158/11158_20110213_150000.nc'),\n",
       " PosixPath('/mnt/obsdata/isee_nlfff_v1.2/11158/11158_20110213_160000.nc'),\n",
       " PosixPath('/mnt/obsdata/isee_nlfff_v1.2/11158/11158_20110213_170000.nc'),\n",
       " PosixPath('/mnt/obsdata/isee_nlfff_v1.2/11158/11158_20110213_172400.nc'),\n",
       " PosixPath('/mnt/obsdata/isee_nlfff_v1.2/11158/11158_20110213_180000.nc'),\n",
       " PosixPath('/mnt/obsdata/isee_nlfff_v1.2/11158/11158_20110213_190000.nc'),\n",
       " PosixPath('/mnt/obsdata/isee_nlfff_v1.2/11158/11158_20110213_200000.nc'),\n",
       " PosixPath('/mnt/obsdata/isee_nlfff_v1.2/11158/11158_20110213_210000.nc'),\n",
       " PosixPath('/mnt/obsdata/isee_nlfff_v1.2/11158/11158_20110213_220000.nc'),\n",
       " PosixPath('/mnt/obsdata/isee_nlfff_v1.2/11158/11158_20110213_230000.nc'),\n",
       " PosixPath('/mnt/obsdata/isee_nlfff_v1.2/11158/11158_20110214_000000.nc'),\n",
       " PosixPath('/mnt/obsdata/isee_nlfff_v1.2/11158/11158_20110214_010000.nc'),\n",
       " PosixPath('/mnt/obsdata/isee_nlfff_v1.2/11158/11158_20110214_020000.nc'),\n",
       " PosixPath('/mnt/obsdata/isee_nlfff_v1.2/11158/11158_20110214_030000.nc'),\n",
       " PosixPath('/mnt/obsdata/isee_nlfff_v1.2/11158/11158_20110214_040000.nc'),\n",
       " PosixPath('/mnt/obsdata/isee_nlfff_v1.2/11158/11158_20110214_050000.nc'),\n",
       " PosixPath('/mnt/obsdata/isee_nlfff_v1.2/11158/11158_20110214_060000.nc'),\n",
       " PosixPath('/mnt/obsdata/isee_nlfff_v1.2/11158/11158_20110214_070000.nc'),\n",
       " PosixPath('/mnt/obsdata/isee_nlfff_v1.2/11158/11158_20110214_080000.nc'),\n",
       " PosixPath('/mnt/obsdata/isee_nlfff_v1.2/11158/11158_20110214_090000.nc'),\n",
       " PosixPath('/mnt/obsdata/isee_nlfff_v1.2/11158/11158_20110214_100000.nc'),\n",
       " PosixPath('/mnt/obsdata/isee_nlfff_v1.2/11158/11158_20110214_110000.nc'),\n",
       " PosixPath('/mnt/obsdata/isee_nlfff_v1.2/11158/11158_20110214_120000.nc'),\n",
       " PosixPath('/mnt/obsdata/isee_nlfff_v1.2/11158/11158_20110214_130000.nc'),\n",
       " PosixPath('/mnt/obsdata/isee_nlfff_v1.2/11158/11158_20110214_140000.nc'),\n",
       " PosixPath('/mnt/obsdata/isee_nlfff_v1.2/11158/11158_20110214_150000.nc'),\n",
       " PosixPath('/mnt/obsdata/isee_nlfff_v1.2/11158/11158_20110214_160000.nc'),\n",
       " PosixPath('/mnt/obsdata/isee_nlfff_v1.2/11158/11158_20110214_170000.nc'),\n",
       " PosixPath('/mnt/obsdata/isee_nlfff_v1.2/11158/11158_20110214_180000.nc'),\n",
       " PosixPath('/mnt/obsdata/isee_nlfff_v1.2/11158/11158_20110214_190000.nc'),\n",
       " PosixPath('/mnt/obsdata/isee_nlfff_v1.2/11158/11158_20110214_200000.nc'),\n",
       " PosixPath('/mnt/obsdata/isee_nlfff_v1.2/11158/11158_20110214_210000.nc'),\n",
       " PosixPath('/mnt/obsdata/isee_nlfff_v1.2/11158/11158_20110214_220000.nc'),\n",
       " PosixPath('/mnt/obsdata/isee_nlfff_v1.2/11158/11158_20110214_230000.nc'),\n",
       " PosixPath('/mnt/obsdata/isee_nlfff_v1.2/11158/11158_20110214_231200.nc'),\n",
       " PosixPath('/mnt/obsdata/isee_nlfff_v1.2/11158/11158_20110214_232400.nc'),\n",
       " PosixPath('/mnt/obsdata/isee_nlfff_v1.2/11158/11158_20110214_233600.nc'),\n",
       " PosixPath('/mnt/obsdata/isee_nlfff_v1.2/11158/11158_20110214_234800.nc'),\n",
       " PosixPath('/mnt/obsdata/isee_nlfff_v1.2/11158/11158_20110215_000000.nc'),\n",
       " PosixPath('/mnt/obsdata/isee_nlfff_v1.2/11158/11158_20110215_001200.nc'),\n",
       " PosixPath('/mnt/obsdata/isee_nlfff_v1.2/11158/11158_20110215_002400.nc'),\n",
       " PosixPath('/mnt/obsdata/isee_nlfff_v1.2/11158/11158_20110215_003600.nc'),\n",
       " PosixPath('/mnt/obsdata/isee_nlfff_v1.2/11158/11158_20110215_004800.nc'),\n",
       " PosixPath('/mnt/obsdata/isee_nlfff_v1.2/11158/11158_20110215_010000.nc'),\n",
       " PosixPath('/mnt/obsdata/isee_nlfff_v1.2/11158/11158_20110215_011200.nc'),\n",
       " PosixPath('/mnt/obsdata/isee_nlfff_v1.2/11158/11158_20110215_012400.nc'),\n",
       " PosixPath('/mnt/obsdata/isee_nlfff_v1.2/11158/11158_20110215_013600.nc'),\n",
       " PosixPath('/mnt/obsdata/isee_nlfff_v1.2/11158/11158_20110215_014800.nc'),\n",
       " PosixPath('/mnt/obsdata/isee_nlfff_v1.2/11158/11158_20110215_020000.nc'),\n",
       " PosixPath('/mnt/obsdata/isee_nlfff_v1.2/11158/11158_20110215_021200.nc'),\n",
       " PosixPath('/mnt/obsdata/isee_nlfff_v1.2/11158/11158_20110215_022400.nc'),\n",
       " PosixPath('/mnt/obsdata/isee_nlfff_v1.2/11158/11158_20110215_023600.nc'),\n",
       " PosixPath('/mnt/obsdata/isee_nlfff_v1.2/11158/11158_20110215_024800.nc'),\n",
       " PosixPath('/mnt/obsdata/isee_nlfff_v1.2/11158/11158_20110215_030000.nc'),\n",
       " PosixPath('/mnt/obsdata/isee_nlfff_v1.2/11158/11158_20110215_040000.nc'),\n",
       " PosixPath('/mnt/obsdata/isee_nlfff_v1.2/11158/11158_20110215_050000.nc'),\n",
       " PosixPath('/mnt/obsdata/isee_nlfff_v1.2/11158/11158_20110215_060000.nc'),\n",
       " PosixPath('/mnt/obsdata/isee_nlfff_v1.2/11158/11158_20110215_070000.nc'),\n",
       " PosixPath('/mnt/obsdata/isee_nlfff_v1.2/11158/11158_20110215_080000.nc'),\n",
       " PosixPath('/mnt/obsdata/isee_nlfff_v1.2/11158/11158_20110215_090000.nc'),\n",
       " PosixPath('/mnt/obsdata/isee_nlfff_v1.2/11158/11158_20110215_100000.nc'),\n",
       " PosixPath('/mnt/obsdata/isee_nlfff_v1.2/11158/11158_20110215_110000.nc'),\n",
       " PosixPath('/mnt/obsdata/isee_nlfff_v1.2/11158/11158_20110215_120000.nc')]"
      ]
     },
     "execution_count": 4,
     "metadata": {},
     "output_type": "execute_result"
    }
   ],
   "source": [
    "file_list"
   ]
  },
  {
   "cell_type": "code",
   "execution_count": null,
   "metadata": {},
   "outputs": [],
   "source": [
    "\n",
    "from tqdm import tqdm\n",
    "\n",
    "inputs_test = []\n",
    "outputs_test = []\n",
    "for file in tqdm(file_list[::40]):\n",
    "    input_p, output_p = create_pair(file)\n",
    "    inputs_test.append(input_p)\n",
    "    outputs_test.append(output_p)\n",
    "\n",
    "inputs_test = np.array(inputs_test).astype(np.float32)\n",
    "outputs_test = np.array(outputs_test).astype(np.float32)\n",
    "\n",
    "np.save('inputs_test.npy', inputs_test)\n",
    "np.save('outputs_test.npy', outputs_test)"
   ]
  },
  {
   "cell_type": "code",
   "execution_count": null,
   "metadata": {},
   "outputs": [],
   "source": []
  }
 ],
 "metadata": {
  "kernelspec": {
   "display_name": "pinn_torch",
   "language": "python",
   "name": "python3"
  },
  "language_info": {
   "codemirror_mode": {
    "name": "ipython",
    "version": 3
   },
   "file_extension": ".py",
   "mimetype": "text/x-python",
   "name": "python",
   "nbconvert_exporter": "python",
   "pygments_lexer": "ipython3",
   "version": "3.10.12"
  }
 },
 "nbformat": 4,
 "nbformat_minor": 2
}
